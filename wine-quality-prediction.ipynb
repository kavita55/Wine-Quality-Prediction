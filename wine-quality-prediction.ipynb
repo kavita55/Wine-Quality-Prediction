{
 "cells": [
  {
   "cell_type": "markdown",
   "id": "017770fb",
   "metadata": {
    "papermill": {
     "duration": 0.037619,
     "end_time": "2024-05-05T09:25:04.687903",
     "exception": false,
     "start_time": "2024-05-05T09:25:04.650284",
     "status": "completed"
    },
    "tags": []
   },
   "source": [
    "# Introduction \n",
    "\n",
    "### Wine Quality DataSet\n",
    "\n",
    "- This datasets is related to red variants of the Portuguese \"Vinho Verde\" wine.The dataset describes the amount of various chemicals present in wine and their effect on it's quality. - The datasets can be viewed as classification or regression tasks.\n",
    "\n",
    "### This data frame contains the following columns:\n",
    "- 1 - fixed acidity\n",
    "- 2 - volatile acidity\n",
    "- 3 - citric acid\n",
    "- 4 - residual sugar\n",
    "- 5 - chlorides \n",
    "- 6 - free sulfur dioxide \n",
    "- 7 - total sulfur dioxide \n",
    "- 8 - density \n",
    "- 9 - pH \n",
    "- 10- sulphates\n",
    "- 11 - alcohol \n",
    "- 12 - quality\n",
    "\n",
    " \n",
    "# Work plan  \n",
    "\n",
    "- EDA\n",
    "- Building a Machine Learning Model\n",
    "\n",
    "\n",
    "# 1- Analyze and explore data  "
   ]
  },
  {
   "cell_type": "code",
   "execution_count": 1,
   "id": "9e3fc28c",
   "metadata": {
    "execution": {
     "iopub.execute_input": "2024-05-05T09:25:04.766415Z",
     "iopub.status.busy": "2024-05-05T09:25:04.765160Z",
     "iopub.status.idle": "2024-05-05T09:25:06.873443Z",
     "shell.execute_reply": "2024-05-05T09:25:06.872393Z",
     "shell.execute_reply.started": "2024-05-05T09:19:32.811463Z"
    },
    "papermill": {
     "duration": 2.148419,
     "end_time": "2024-05-05T09:25:06.873620",
     "exception": false,
     "start_time": "2024-05-05T09:25:04.725201",
     "status": "completed"
    },
    "tags": []
   },
   "outputs": [],
   "source": [
    "#Importing the basic librarires fot analysis\n",
    "\n",
    "import numpy as np\n",
    "import pandas as pd\n",
    "import seaborn as sns\n",
    "import matplotlib.pyplot as plt\n",
    "plt.style.use(\"ggplot\")  #using style ggplot\n",
    "\n",
    "%matplotlib inline\n",
    "\n",
    "import plotly.graph_objects as go\n",
    "import plotly.express as px"
   ]
  },
  {
   "cell_type": "code",
   "execution_count": 2,
   "id": "46fb2085",
   "metadata": {
    "execution": {
     "iopub.execute_input": "2024-05-05T09:25:06.951038Z",
     "iopub.status.busy": "2024-05-05T09:25:06.950024Z",
     "iopub.status.idle": "2024-05-05T09:25:06.972190Z",
     "shell.execute_reply": "2024-05-05T09:25:06.971550Z",
     "shell.execute_reply.started": "2024-05-05T09:19:34.857209Z"
    },
    "papermill": {
     "duration": 0.06288,
     "end_time": "2024-05-05T09:25:06.972365",
     "exception": false,
     "start_time": "2024-05-05T09:25:06.909485",
     "status": "completed"
    },
    "tags": []
   },
   "outputs": [],
   "source": [
    "#Importing the dataset\n",
    "\n",
    "df=pd.read_csv(\"../input/wine-quality-dataset/WineQT.csv\")"
   ]
  },
  {
   "cell_type": "code",
   "execution_count": 3,
   "id": "6d783827",
   "metadata": {
    "execution": {
     "iopub.execute_input": "2024-05-05T09:25:07.055590Z",
     "iopub.status.busy": "2024-05-05T09:25:07.054858Z",
     "iopub.status.idle": "2024-05-05T09:25:07.079098Z",
     "shell.execute_reply": "2024-05-05T09:25:07.079618Z",
     "shell.execute_reply.started": "2024-05-05T09:19:34.881464Z"
    },
    "papermill": {
     "duration": 0.068917,
     "end_time": "2024-05-05T09:25:07.079789",
     "exception": false,
     "start_time": "2024-05-05T09:25:07.010872",
     "status": "completed"
    },
    "tags": []
   },
   "outputs": [
    {
     "data": {
      "text/html": [
       "<div>\n",
       "<style scoped>\n",
       "    .dataframe tbody tr th:only-of-type {\n",
       "        vertical-align: middle;\n",
       "    }\n",
       "\n",
       "    .dataframe tbody tr th {\n",
       "        vertical-align: top;\n",
       "    }\n",
       "\n",
       "    .dataframe thead th {\n",
       "        text-align: right;\n",
       "    }\n",
       "</style>\n",
       "<table border=\"1\" class=\"dataframe\">\n",
       "  <thead>\n",
       "    <tr style=\"text-align: right;\">\n",
       "      <th></th>\n",
       "      <th>fixed acidity</th>\n",
       "      <th>volatile acidity</th>\n",
       "      <th>citric acid</th>\n",
       "      <th>residual sugar</th>\n",
       "      <th>chlorides</th>\n",
       "      <th>free sulfur dioxide</th>\n",
       "      <th>total sulfur dioxide</th>\n",
       "      <th>density</th>\n",
       "      <th>pH</th>\n",
       "      <th>sulphates</th>\n",
       "      <th>alcohol</th>\n",
       "      <th>quality</th>\n",
       "      <th>Id</th>\n",
       "    </tr>\n",
       "  </thead>\n",
       "  <tbody>\n",
       "    <tr>\n",
       "      <th>0</th>\n",
       "      <td>7.4</td>\n",
       "      <td>0.70</td>\n",
       "      <td>0.00</td>\n",
       "      <td>1.9</td>\n",
       "      <td>0.076</td>\n",
       "      <td>11.0</td>\n",
       "      <td>34.0</td>\n",
       "      <td>0.9978</td>\n",
       "      <td>3.51</td>\n",
       "      <td>0.56</td>\n",
       "      <td>9.4</td>\n",
       "      <td>5</td>\n",
       "      <td>0</td>\n",
       "    </tr>\n",
       "    <tr>\n",
       "      <th>1</th>\n",
       "      <td>7.8</td>\n",
       "      <td>0.88</td>\n",
       "      <td>0.00</td>\n",
       "      <td>2.6</td>\n",
       "      <td>0.098</td>\n",
       "      <td>25.0</td>\n",
       "      <td>67.0</td>\n",
       "      <td>0.9968</td>\n",
       "      <td>3.20</td>\n",
       "      <td>0.68</td>\n",
       "      <td>9.8</td>\n",
       "      <td>5</td>\n",
       "      <td>1</td>\n",
       "    </tr>\n",
       "    <tr>\n",
       "      <th>2</th>\n",
       "      <td>7.8</td>\n",
       "      <td>0.76</td>\n",
       "      <td>0.04</td>\n",
       "      <td>2.3</td>\n",
       "      <td>0.092</td>\n",
       "      <td>15.0</td>\n",
       "      <td>54.0</td>\n",
       "      <td>0.9970</td>\n",
       "      <td>3.26</td>\n",
       "      <td>0.65</td>\n",
       "      <td>9.8</td>\n",
       "      <td>5</td>\n",
       "      <td>2</td>\n",
       "    </tr>\n",
       "    <tr>\n",
       "      <th>3</th>\n",
       "      <td>11.2</td>\n",
       "      <td>0.28</td>\n",
       "      <td>0.56</td>\n",
       "      <td>1.9</td>\n",
       "      <td>0.075</td>\n",
       "      <td>17.0</td>\n",
       "      <td>60.0</td>\n",
       "      <td>0.9980</td>\n",
       "      <td>3.16</td>\n",
       "      <td>0.58</td>\n",
       "      <td>9.8</td>\n",
       "      <td>6</td>\n",
       "      <td>3</td>\n",
       "    </tr>\n",
       "    <tr>\n",
       "      <th>4</th>\n",
       "      <td>7.4</td>\n",
       "      <td>0.70</td>\n",
       "      <td>0.00</td>\n",
       "      <td>1.9</td>\n",
       "      <td>0.076</td>\n",
       "      <td>11.0</td>\n",
       "      <td>34.0</td>\n",
       "      <td>0.9978</td>\n",
       "      <td>3.51</td>\n",
       "      <td>0.56</td>\n",
       "      <td>9.4</td>\n",
       "      <td>5</td>\n",
       "      <td>4</td>\n",
       "    </tr>\n",
       "  </tbody>\n",
       "</table>\n",
       "</div>"
      ],
      "text/plain": [
       "   fixed acidity  volatile acidity  citric acid  residual sugar  chlorides  \\\n",
       "0            7.4              0.70         0.00             1.9      0.076   \n",
       "1            7.8              0.88         0.00             2.6      0.098   \n",
       "2            7.8              0.76         0.04             2.3      0.092   \n",
       "3           11.2              0.28         0.56             1.9      0.075   \n",
       "4            7.4              0.70         0.00             1.9      0.076   \n",
       "\n",
       "   free sulfur dioxide  total sulfur dioxide  density    pH  sulphates  \\\n",
       "0                 11.0                  34.0   0.9978  3.51       0.56   \n",
       "1                 25.0                  67.0   0.9968  3.20       0.68   \n",
       "2                 15.0                  54.0   0.9970  3.26       0.65   \n",
       "3                 17.0                  60.0   0.9980  3.16       0.58   \n",
       "4                 11.0                  34.0   0.9978  3.51       0.56   \n",
       "\n",
       "   alcohol  quality  Id  \n",
       "0      9.4        5   0  \n",
       "1      9.8        5   1  \n",
       "2      9.8        5   2  \n",
       "3      9.8        6   3  \n",
       "4      9.4        5   4  "
      ]
     },
     "execution_count": 3,
     "metadata": {},
     "output_type": "execute_result"
    }
   ],
   "source": [
    "# looking the data set \n",
    "\n",
    "df.head()"
   ]
  },
  {
   "cell_type": "code",
   "execution_count": 4,
   "id": "637dcc25",
   "metadata": {
    "execution": {
     "iopub.execute_input": "2024-05-05T09:25:07.158559Z",
     "iopub.status.busy": "2024-05-05T09:25:07.157577Z",
     "iopub.status.idle": "2024-05-05T09:25:07.162655Z",
     "shell.execute_reply": "2024-05-05T09:25:07.163296Z",
     "shell.execute_reply.started": "2024-05-05T09:19:34.909350Z"
    },
    "papermill": {
     "duration": 0.045068,
     "end_time": "2024-05-05T09:25:07.163469",
     "exception": false,
     "start_time": "2024-05-05T09:25:07.118401",
     "status": "completed"
    },
    "tags": []
   },
   "outputs": [
    {
     "name": "stdout",
     "output_type": "stream",
     "text": [
      "Shape The Data Set  (1143, 13)\n"
     ]
    }
   ],
   "source": [
    " #print the shape dataset\n",
    "    \n",
    "print(\"Shape The Data Set \", df.shape )"
   ]
  },
  {
   "cell_type": "code",
   "execution_count": 5,
   "id": "97672150",
   "metadata": {
    "execution": {
     "iopub.execute_input": "2024-05-05T09:25:07.241375Z",
     "iopub.status.busy": "2024-05-05T09:25:07.240418Z",
     "iopub.status.idle": "2024-05-05T09:25:07.263086Z",
     "shell.execute_reply": "2024-05-05T09:25:07.263729Z",
     "shell.execute_reply.started": "2024-05-05T09:19:34.915762Z"
    },
    "papermill": {
     "duration": 0.063165,
     "end_time": "2024-05-05T09:25:07.263944",
     "exception": false,
     "start_time": "2024-05-05T09:25:07.200779",
     "status": "completed"
    },
    "tags": []
   },
   "outputs": [
    {
     "name": "stdout",
     "output_type": "stream",
     "text": [
      "<class 'pandas.core.frame.DataFrame'>\n",
      "RangeIndex: 1143 entries, 0 to 1142\n",
      "Data columns (total 13 columns):\n",
      " #   Column                Non-Null Count  Dtype  \n",
      "---  ------                --------------  -----  \n",
      " 0   fixed acidity         1143 non-null   float64\n",
      " 1   volatile acidity      1143 non-null   float64\n",
      " 2   citric acid           1143 non-null   float64\n",
      " 3   residual sugar        1143 non-null   float64\n",
      " 4   chlorides             1143 non-null   float64\n",
      " 5   free sulfur dioxide   1143 non-null   float64\n",
      " 6   total sulfur dioxide  1143 non-null   float64\n",
      " 7   density               1143 non-null   float64\n",
      " 8   pH                    1143 non-null   float64\n",
      " 9   sulphates             1143 non-null   float64\n",
      " 10  alcohol               1143 non-null   float64\n",
      " 11  quality               1143 non-null   int64  \n",
      " 12  Id                    1143 non-null   int64  \n",
      "dtypes: float64(11), int64(2)\n",
      "memory usage: 116.2 KB\n"
     ]
    }
   ],
   "source": [
    "#Checking the dtypes of all the columns\n",
    "\n",
    "df.info()"
   ]
  },
  {
   "cell_type": "code",
   "execution_count": 6,
   "id": "af14014f",
   "metadata": {
    "execution": {
     "iopub.execute_input": "2024-05-05T09:25:07.343287Z",
     "iopub.status.busy": "2024-05-05T09:25:07.342547Z",
     "iopub.status.idle": "2024-05-05T09:25:07.348557Z",
     "shell.execute_reply": "2024-05-05T09:25:07.349091Z",
     "shell.execute_reply.started": "2024-05-05T09:19:34.941284Z"
    },
    "papermill": {
     "duration": 0.048208,
     "end_time": "2024-05-05T09:25:07.349269",
     "exception": false,
     "start_time": "2024-05-05T09:25:07.301061",
     "status": "completed"
    },
    "tags": []
   },
   "outputs": [
    {
     "data": {
      "text/plain": [
       "fixed acidity           0\n",
       "volatile acidity        0\n",
       "citric acid             0\n",
       "residual sugar          0\n",
       "chlorides               0\n",
       "free sulfur dioxide     0\n",
       "total sulfur dioxide    0\n",
       "density                 0\n",
       "pH                      0\n",
       "sulphates               0\n",
       "alcohol                 0\n",
       "quality                 0\n",
       "Id                      0\n",
       "dtype: int64"
      ]
     },
     "execution_count": 6,
     "metadata": {},
     "output_type": "execute_result"
    }
   ],
   "source": [
    "#checking null value \n",
    "df.isna().sum()"
   ]
  },
  {
   "cell_type": "markdown",
   "id": "f4032be4",
   "metadata": {
    "papermill": {
     "duration": 0.037143,
     "end_time": "2024-05-05T09:25:07.424258",
     "exception": false,
     "start_time": "2024-05-05T09:25:07.387115",
     "status": "completed"
    },
    "tags": []
   },
   "source": [
    "-  No missing value present in the data"
   ]
  },
  {
   "cell_type": "code",
   "execution_count": 7,
   "id": "d9eb1871",
   "metadata": {
    "execution": {
     "iopub.execute_input": "2024-05-05T09:25:07.502618Z",
     "iopub.status.busy": "2024-05-05T09:25:07.501955Z",
     "iopub.status.idle": "2024-05-05T09:25:07.549993Z",
     "shell.execute_reply": "2024-05-05T09:25:07.550504Z",
     "shell.execute_reply.started": "2024-05-05T09:19:34.951663Z"
    },
    "papermill": {
     "duration": 0.08879,
     "end_time": "2024-05-05T09:25:07.550678",
     "exception": false,
     "start_time": "2024-05-05T09:25:07.461888",
     "status": "completed"
    },
    "tags": []
   },
   "outputs": [
    {
     "data": {
      "text/html": [
       "<div>\n",
       "<style scoped>\n",
       "    .dataframe tbody tr th:only-of-type {\n",
       "        vertical-align: middle;\n",
       "    }\n",
       "\n",
       "    .dataframe tbody tr th {\n",
       "        vertical-align: top;\n",
       "    }\n",
       "\n",
       "    .dataframe thead th {\n",
       "        text-align: right;\n",
       "    }\n",
       "</style>\n",
       "<table border=\"1\" class=\"dataframe\">\n",
       "  <thead>\n",
       "    <tr style=\"text-align: right;\">\n",
       "      <th></th>\n",
       "      <th>fixed acidity</th>\n",
       "      <th>volatile acidity</th>\n",
       "      <th>citric acid</th>\n",
       "      <th>residual sugar</th>\n",
       "      <th>chlorides</th>\n",
       "      <th>free sulfur dioxide</th>\n",
       "      <th>total sulfur dioxide</th>\n",
       "      <th>density</th>\n",
       "      <th>pH</th>\n",
       "      <th>sulphates</th>\n",
       "      <th>alcohol</th>\n",
       "      <th>quality</th>\n",
       "      <th>Id</th>\n",
       "    </tr>\n",
       "  </thead>\n",
       "  <tbody>\n",
       "    <tr>\n",
       "      <th>count</th>\n",
       "      <td>1143.000000</td>\n",
       "      <td>1143.000000</td>\n",
       "      <td>1143.000000</td>\n",
       "      <td>1143.000000</td>\n",
       "      <td>1143.000000</td>\n",
       "      <td>1143.000000</td>\n",
       "      <td>1143.000000</td>\n",
       "      <td>1143.000000</td>\n",
       "      <td>1143.000000</td>\n",
       "      <td>1143.000000</td>\n",
       "      <td>1143.000000</td>\n",
       "      <td>1143.000000</td>\n",
       "      <td>1143.000000</td>\n",
       "    </tr>\n",
       "    <tr>\n",
       "      <th>mean</th>\n",
       "      <td>8.311111</td>\n",
       "      <td>0.531339</td>\n",
       "      <td>0.268364</td>\n",
       "      <td>2.532152</td>\n",
       "      <td>0.086933</td>\n",
       "      <td>15.615486</td>\n",
       "      <td>45.914698</td>\n",
       "      <td>0.996730</td>\n",
       "      <td>3.311015</td>\n",
       "      <td>0.657708</td>\n",
       "      <td>10.442111</td>\n",
       "      <td>5.657043</td>\n",
       "      <td>804.969379</td>\n",
       "    </tr>\n",
       "    <tr>\n",
       "      <th>std</th>\n",
       "      <td>1.747595</td>\n",
       "      <td>0.179633</td>\n",
       "      <td>0.196686</td>\n",
       "      <td>1.355917</td>\n",
       "      <td>0.047267</td>\n",
       "      <td>10.250486</td>\n",
       "      <td>32.782130</td>\n",
       "      <td>0.001925</td>\n",
       "      <td>0.156664</td>\n",
       "      <td>0.170399</td>\n",
       "      <td>1.082196</td>\n",
       "      <td>0.805824</td>\n",
       "      <td>463.997116</td>\n",
       "    </tr>\n",
       "    <tr>\n",
       "      <th>min</th>\n",
       "      <td>4.600000</td>\n",
       "      <td>0.120000</td>\n",
       "      <td>0.000000</td>\n",
       "      <td>0.900000</td>\n",
       "      <td>0.012000</td>\n",
       "      <td>1.000000</td>\n",
       "      <td>6.000000</td>\n",
       "      <td>0.990070</td>\n",
       "      <td>2.740000</td>\n",
       "      <td>0.330000</td>\n",
       "      <td>8.400000</td>\n",
       "      <td>3.000000</td>\n",
       "      <td>0.000000</td>\n",
       "    </tr>\n",
       "    <tr>\n",
       "      <th>25%</th>\n",
       "      <td>7.100000</td>\n",
       "      <td>0.392500</td>\n",
       "      <td>0.090000</td>\n",
       "      <td>1.900000</td>\n",
       "      <td>0.070000</td>\n",
       "      <td>7.000000</td>\n",
       "      <td>21.000000</td>\n",
       "      <td>0.995570</td>\n",
       "      <td>3.205000</td>\n",
       "      <td>0.550000</td>\n",
       "      <td>9.500000</td>\n",
       "      <td>5.000000</td>\n",
       "      <td>411.000000</td>\n",
       "    </tr>\n",
       "    <tr>\n",
       "      <th>50%</th>\n",
       "      <td>7.900000</td>\n",
       "      <td>0.520000</td>\n",
       "      <td>0.250000</td>\n",
       "      <td>2.200000</td>\n",
       "      <td>0.079000</td>\n",
       "      <td>13.000000</td>\n",
       "      <td>37.000000</td>\n",
       "      <td>0.996680</td>\n",
       "      <td>3.310000</td>\n",
       "      <td>0.620000</td>\n",
       "      <td>10.200000</td>\n",
       "      <td>6.000000</td>\n",
       "      <td>794.000000</td>\n",
       "    </tr>\n",
       "    <tr>\n",
       "      <th>75%</th>\n",
       "      <td>9.100000</td>\n",
       "      <td>0.640000</td>\n",
       "      <td>0.420000</td>\n",
       "      <td>2.600000</td>\n",
       "      <td>0.090000</td>\n",
       "      <td>21.000000</td>\n",
       "      <td>61.000000</td>\n",
       "      <td>0.997845</td>\n",
       "      <td>3.400000</td>\n",
       "      <td>0.730000</td>\n",
       "      <td>11.100000</td>\n",
       "      <td>6.000000</td>\n",
       "      <td>1209.500000</td>\n",
       "    </tr>\n",
       "    <tr>\n",
       "      <th>max</th>\n",
       "      <td>15.900000</td>\n",
       "      <td>1.580000</td>\n",
       "      <td>1.000000</td>\n",
       "      <td>15.500000</td>\n",
       "      <td>0.611000</td>\n",
       "      <td>68.000000</td>\n",
       "      <td>289.000000</td>\n",
       "      <td>1.003690</td>\n",
       "      <td>4.010000</td>\n",
       "      <td>2.000000</td>\n",
       "      <td>14.900000</td>\n",
       "      <td>8.000000</td>\n",
       "      <td>1597.000000</td>\n",
       "    </tr>\n",
       "  </tbody>\n",
       "</table>\n",
       "</div>"
      ],
      "text/plain": [
       "       fixed acidity  volatile acidity  citric acid  residual sugar  \\\n",
       "count    1143.000000       1143.000000  1143.000000     1143.000000   \n",
       "mean        8.311111          0.531339     0.268364        2.532152   \n",
       "std         1.747595          0.179633     0.196686        1.355917   \n",
       "min         4.600000          0.120000     0.000000        0.900000   \n",
       "25%         7.100000          0.392500     0.090000        1.900000   \n",
       "50%         7.900000          0.520000     0.250000        2.200000   \n",
       "75%         9.100000          0.640000     0.420000        2.600000   \n",
       "max        15.900000          1.580000     1.000000       15.500000   \n",
       "\n",
       "         chlorides  free sulfur dioxide  total sulfur dioxide      density  \\\n",
       "count  1143.000000          1143.000000           1143.000000  1143.000000   \n",
       "mean      0.086933            15.615486             45.914698     0.996730   \n",
       "std       0.047267            10.250486             32.782130     0.001925   \n",
       "min       0.012000             1.000000              6.000000     0.990070   \n",
       "25%       0.070000             7.000000             21.000000     0.995570   \n",
       "50%       0.079000            13.000000             37.000000     0.996680   \n",
       "75%       0.090000            21.000000             61.000000     0.997845   \n",
       "max       0.611000            68.000000            289.000000     1.003690   \n",
       "\n",
       "                pH    sulphates      alcohol      quality           Id  \n",
       "count  1143.000000  1143.000000  1143.000000  1143.000000  1143.000000  \n",
       "mean      3.311015     0.657708    10.442111     5.657043   804.969379  \n",
       "std       0.156664     0.170399     1.082196     0.805824   463.997116  \n",
       "min       2.740000     0.330000     8.400000     3.000000     0.000000  \n",
       "25%       3.205000     0.550000     9.500000     5.000000   411.000000  \n",
       "50%       3.310000     0.620000    10.200000     6.000000   794.000000  \n",
       "75%       3.400000     0.730000    11.100000     6.000000  1209.500000  \n",
       "max       4.010000     2.000000    14.900000     8.000000  1597.000000  "
      ]
     },
     "execution_count": 7,
     "metadata": {},
     "output_type": "execute_result"
    }
   ],
   "source": [
    "# Describe value data set\n",
    "df.describe()"
   ]
  },
  {
   "cell_type": "code",
   "execution_count": 8,
   "id": "21b27827",
   "metadata": {
    "execution": {
     "iopub.execute_input": "2024-05-05T09:25:07.632471Z",
     "iopub.status.busy": "2024-05-05T09:25:07.631517Z",
     "iopub.status.idle": "2024-05-05T09:25:07.638112Z",
     "shell.execute_reply": "2024-05-05T09:25:07.638708Z",
     "shell.execute_reply.started": "2024-05-05T09:19:34.998907Z"
    },
    "papermill": {
     "duration": 0.049672,
     "end_time": "2024-05-05T09:25:07.638877",
     "exception": false,
     "start_time": "2024-05-05T09:25:07.589205",
     "status": "completed"
    },
    "tags": []
   },
   "outputs": [
    {
     "name": "stdout",
     "output_type": "stream",
     "text": [
      "The Value Quality  [5 6 7 4 8 3]\n"
     ]
    }
   ],
   "source": [
    "# Drop columns ID , not adding any value to the data\n",
    "\n",
    "df.drop(columns=\"Id\",inplace=True)\n",
    "\n",
    "\n",
    "#the unique quality \n",
    "\n",
    "print(\"The Value Quality \",df[\"quality\"].unique())"
   ]
  },
  {
   "cell_type": "code",
   "execution_count": 9,
   "id": "c196bc54",
   "metadata": {
    "execution": {
     "iopub.execute_input": "2024-05-05T09:25:07.723816Z",
     "iopub.status.busy": "2024-05-05T09:25:07.722840Z",
     "iopub.status.idle": "2024-05-05T09:25:07.748388Z",
     "shell.execute_reply": "2024-05-05T09:25:07.748965Z",
     "shell.execute_reply.started": "2024-05-05T09:19:35.006392Z"
    },
    "papermill": {
     "duration": 0.070327,
     "end_time": "2024-05-05T09:25:07.749154",
     "exception": false,
     "start_time": "2024-05-05T09:25:07.678827",
     "status": "completed"
    },
    "tags": []
   },
   "outputs": [
    {
     "data": {
      "text/html": [
       "<div>\n",
       "<style scoped>\n",
       "    .dataframe tbody tr th:only-of-type {\n",
       "        vertical-align: middle;\n",
       "    }\n",
       "\n",
       "    .dataframe tbody tr th {\n",
       "        vertical-align: top;\n",
       "    }\n",
       "\n",
       "    .dataframe thead th {\n",
       "        text-align: right;\n",
       "    }\n",
       "</style>\n",
       "<table border=\"1\" class=\"dataframe\">\n",
       "  <thead>\n",
       "    <tr style=\"text-align: right;\">\n",
       "      <th></th>\n",
       "      <th>fixed acidity</th>\n",
       "      <th>volatile acidity</th>\n",
       "      <th>citric acid</th>\n",
       "      <th>residual sugar</th>\n",
       "      <th>chlorides</th>\n",
       "      <th>free sulfur dioxide</th>\n",
       "      <th>total sulfur dioxide</th>\n",
       "      <th>density</th>\n",
       "      <th>pH</th>\n",
       "      <th>sulphates</th>\n",
       "      <th>alcohol</th>\n",
       "    </tr>\n",
       "    <tr>\n",
       "      <th>quality</th>\n",
       "      <th></th>\n",
       "      <th></th>\n",
       "      <th></th>\n",
       "      <th></th>\n",
       "      <th></th>\n",
       "      <th></th>\n",
       "      <th></th>\n",
       "      <th></th>\n",
       "      <th></th>\n",
       "      <th></th>\n",
       "      <th></th>\n",
       "    </tr>\n",
       "  </thead>\n",
       "  <tbody>\n",
       "    <tr>\n",
       "      <th>3</th>\n",
       "      <td>8.45</td>\n",
       "      <td>0.90</td>\n",
       "      <td>0.21</td>\n",
       "      <td>2.67</td>\n",
       "      <td>0.11</td>\n",
       "      <td>8.17</td>\n",
       "      <td>24.50</td>\n",
       "      <td>1.0</td>\n",
       "      <td>3.36</td>\n",
       "      <td>0.55</td>\n",
       "      <td>9.69</td>\n",
       "    </tr>\n",
       "    <tr>\n",
       "      <th>4</th>\n",
       "      <td>7.81</td>\n",
       "      <td>0.70</td>\n",
       "      <td>0.17</td>\n",
       "      <td>2.57</td>\n",
       "      <td>0.09</td>\n",
       "      <td>14.85</td>\n",
       "      <td>40.61</td>\n",
       "      <td>1.0</td>\n",
       "      <td>3.39</td>\n",
       "      <td>0.64</td>\n",
       "      <td>10.26</td>\n",
       "    </tr>\n",
       "    <tr>\n",
       "      <th>5</th>\n",
       "      <td>8.16</td>\n",
       "      <td>0.59</td>\n",
       "      <td>0.24</td>\n",
       "      <td>2.54</td>\n",
       "      <td>0.09</td>\n",
       "      <td>16.61</td>\n",
       "      <td>55.30</td>\n",
       "      <td>1.0</td>\n",
       "      <td>3.30</td>\n",
       "      <td>0.61</td>\n",
       "      <td>9.90</td>\n",
       "    </tr>\n",
       "    <tr>\n",
       "      <th>6</th>\n",
       "      <td>8.32</td>\n",
       "      <td>0.50</td>\n",
       "      <td>0.26</td>\n",
       "      <td>2.44</td>\n",
       "      <td>0.09</td>\n",
       "      <td>15.22</td>\n",
       "      <td>39.94</td>\n",
       "      <td>1.0</td>\n",
       "      <td>3.32</td>\n",
       "      <td>0.68</td>\n",
       "      <td>10.66</td>\n",
       "    </tr>\n",
       "    <tr>\n",
       "      <th>7</th>\n",
       "      <td>8.85</td>\n",
       "      <td>0.39</td>\n",
       "      <td>0.39</td>\n",
       "      <td>2.76</td>\n",
       "      <td>0.08</td>\n",
       "      <td>14.54</td>\n",
       "      <td>37.49</td>\n",
       "      <td>1.0</td>\n",
       "      <td>3.29</td>\n",
       "      <td>0.74</td>\n",
       "      <td>11.48</td>\n",
       "    </tr>\n",
       "    <tr>\n",
       "      <th>8</th>\n",
       "      <td>8.81</td>\n",
       "      <td>0.41</td>\n",
       "      <td>0.43</td>\n",
       "      <td>2.64</td>\n",
       "      <td>0.07</td>\n",
       "      <td>11.06</td>\n",
       "      <td>29.38</td>\n",
       "      <td>1.0</td>\n",
       "      <td>3.24</td>\n",
       "      <td>0.77</td>\n",
       "      <td>11.94</td>\n",
       "    </tr>\n",
       "  </tbody>\n",
       "</table>\n",
       "</div>"
      ],
      "text/plain": [
       "         fixed acidity  volatile acidity  citric acid  residual sugar  \\\n",
       "quality                                                                 \n",
       "3                 8.45              0.90         0.21            2.67   \n",
       "4                 7.81              0.70         0.17            2.57   \n",
       "5                 8.16              0.59         0.24            2.54   \n",
       "6                 8.32              0.50         0.26            2.44   \n",
       "7                 8.85              0.39         0.39            2.76   \n",
       "8                 8.81              0.41         0.43            2.64   \n",
       "\n",
       "         chlorides  free sulfur dioxide  total sulfur dioxide  density    pH  \\\n",
       "quality                                                                        \n",
       "3             0.11                 8.17                 24.50      1.0  3.36   \n",
       "4             0.09                14.85                 40.61      1.0  3.39   \n",
       "5             0.09                16.61                 55.30      1.0  3.30   \n",
       "6             0.09                15.22                 39.94      1.0  3.32   \n",
       "7             0.08                14.54                 37.49      1.0  3.29   \n",
       "8             0.07                11.06                 29.38      1.0  3.24   \n",
       "\n",
       "         sulphates  alcohol  \n",
       "quality                      \n",
       "3             0.55     9.69  \n",
       "4             0.64    10.26  \n",
       "5             0.61     9.90  \n",
       "6             0.68    10.66  \n",
       "7             0.74    11.48  \n",
       "8             0.77    11.94  "
      ]
     },
     "execution_count": 9,
     "metadata": {},
     "output_type": "execute_result"
    }
   ],
   "source": [
    "# making Group by to check realtions with other columns\n",
    "\n",
    "ave_qu = df.groupby(\"quality\").mean().round(2)\n",
    "ave_qu"
   ]
  },
  {
   "cell_type": "code",
   "execution_count": 10,
   "id": "4fedf24f",
   "metadata": {
    "execution": {
     "iopub.execute_input": "2024-05-05T09:25:07.833605Z",
     "iopub.status.busy": "2024-05-05T09:25:07.832656Z",
     "iopub.status.idle": "2024-05-05T09:25:08.468357Z",
     "shell.execute_reply": "2024-05-05T09:25:08.468870Z",
     "shell.execute_reply.started": "2024-05-05T09:19:35.038583Z"
    },
    "papermill": {
     "duration": 0.680872,
     "end_time": "2024-05-05T09:25:08.469715",
     "exception": false,
     "start_time": "2024-05-05T09:25:07.788843",
     "status": "completed"
    },
    "tags": []
   },
   "outputs": [
    {
     "data": {
      "text/plain": [
       "<AxesSubplot:xlabel='quality'>"
      ]
     },
     "execution_count": 10,
     "metadata": {},
     "output_type": "execute_result"
    },
    {
     "data": {
      "image/png": "[encoded data removed]",
      "text/plain": [
       "<Figure size 1440x720 with 1 Axes>"
      ]
     },
     "metadata": {
      "needs_background": "light"
     },
     "output_type": "display_data"
    }
   ],
   "source": [
    "# graph the group by\\\n",
    "ave_qu.plot(kind=\"bar\",figsize=(20,10))"
   ]
  },
  {
   "cell_type": "markdown",
   "id": "9a6a6109",
   "metadata": {
    "papermill": {
     "duration": 0.040654,
     "end_time": "2024-05-05T09:25:08.551677",
     "exception": false,
     "start_time": "2024-05-05T09:25:08.511023",
     "status": "completed"
    },
    "tags": []
   },
   "source": [
    "- now we see  the effect of the elements on the quality"
   ]
  },
  {
   "cell_type": "code",
   "execution_count": 11,
   "id": "4b46f50a",
   "metadata": {
    "execution": {
     "iopub.execute_input": "2024-05-05T09:25:08.636619Z",
     "iopub.status.busy": "2024-05-05T09:25:08.635823Z",
     "iopub.status.idle": "2024-05-05T09:25:10.360013Z",
     "shell.execute_reply": "2024-05-05T09:25:10.360543Z",
     "shell.execute_reply.started": "2024-05-05T09:19:35.671031Z"
    },
    "papermill": {
     "duration": 1.768193,
     "end_time": "2024-05-05T09:25:10.360718",
     "exception": false,
     "start_time": "2024-05-05T09:25:08.592525",
     "status": "completed"
    },
    "tags": []
   },
   "outputs": [
    {
     "data": {
      "image/png": "[encoded data removed]",
      "text/plain": [
       "<Figure size 1440x504 with 1 Axes>"
      ]
     },
     "metadata": {
      "needs_background": "light"
     },
     "output_type": "display_data"
    }
   ],
   "source": [
    "# let see effect elements on the quality - details\n",
    "plt.figure(figsize=(20,7))\n",
    "sns.lineplot(data=df, x=\"quality\",y=\"volatile acidity\",label=\"Volatile Acidity\")\n",
    "sns.lineplot(data=df, x=\"quality\",y=\"citric acid\",label=\"Citric Acid\")\n",
    "sns.lineplot(data=df, x=\"quality\",y=\"chlorides\",label=\"chlorides\")\n",
    "sns.lineplot(data=df, x=\"quality\",y=\"pH\",label=\"PH\")\n",
    "sns.lineplot(data=df, x=\"quality\",y=\"sulphates\",label=\"Sulphates\")\n",
    "sns.lineplot(data=df, x=\"quality\",y=\"alcohol\", label=\"alcohol\")\n",
    "sns.lineplot(data=df, x=\"quality\",y=\"total sulfur dioxide\", label=\"otal sulfur dioxide\")\n",
    "sns.lineplot(data=df, x=\"quality\",y=\"free sulfur dioxide\", label=\"free sulfur dioxide\")\n",
    "plt.ylabel(\"Quantity\")\n",
    "plt.title(\"Impact on quality\")\n",
    "plt.legend()\n",
    "plt.show()"
   ]
  },
  {
   "cell_type": "markdown",
   "id": "2a705581",
   "metadata": {
    "papermill": {
     "duration": 0.043718,
     "end_time": "2024-05-05T09:25:10.449527",
     "exception": false,
     "start_time": "2024-05-05T09:25:10.405809",
     "status": "completed"
    },
    "tags": []
   },
   "source": [
    "- We see effects of few elements on quality, let's check them individually"
   ]
  },
  {
   "cell_type": "code",
   "execution_count": 12,
   "id": "a96469a4",
   "metadata": {
    "execution": {
     "iopub.execute_input": "2024-05-05T09:25:10.544439Z",
     "iopub.status.busy": "2024-05-05T09:25:10.543797Z",
     "iopub.status.idle": "2024-05-05T09:25:10.955117Z",
     "shell.execute_reply": "2024-05-05T09:25:10.954485Z",
     "shell.execute_reply.started": "2024-05-05T09:19:37.448768Z"
    },
    "papermill": {
     "duration": 0.462289,
     "end_time": "2024-05-05T09:25:10.955258",
     "exception": false,
     "start_time": "2024-05-05T09:25:10.492969",
     "status": "completed"
    },
    "tags": []
   },
   "outputs": [
    {
     "data": {
      "text/plain": [
       "<AxesSubplot:xlabel='quality', ylabel='alcohol'>"
      ]
     },
     "execution_count": 12,
     "metadata": {},
     "output_type": "execute_result"
    },
    {
     "data": {
      "image/png": "[encoded data removed]",
      "text/plain": [
       "<Figure size 1080x504 with 1 Axes>"
      ]
     },
     "metadata": {
      "needs_background": "light"
     },
     "output_type": "display_data"
    }
   ],
   "source": [
    "# effect the Alcohol in the quality\n",
    "\n",
    "plt.figure(figsize=(15,7))\n",
    "sns.lineplot(data=df, x=\"quality\",y=\"alcohol\")"
   ]
  },
  {
   "cell_type": "code",
   "execution_count": 13,
   "id": "11182b92",
   "metadata": {
    "execution": {
     "iopub.execute_input": "2024-05-05T09:25:11.050092Z",
     "iopub.status.busy": "2024-05-05T09:25:11.049420Z",
     "iopub.status.idle": "2024-05-05T09:25:11.450100Z",
     "shell.execute_reply": "2024-05-05T09:25:11.449457Z",
     "shell.execute_reply.started": "2024-05-05T09:19:37.889800Z"
    },
    "papermill": {
     "duration": 0.449248,
     "end_time": "2024-05-05T09:25:11.450248",
     "exception": false,
     "start_time": "2024-05-05T09:25:11.001000",
     "status": "completed"
    },
    "tags": []
   },
   "outputs": [
    {
     "data": {
      "text/plain": [
       "<AxesSubplot:xlabel='quality', ylabel='total sulfur dioxide'>"
      ]
     },
     "execution_count": 13,
     "metadata": {},
     "output_type": "execute_result"
    },
    {
     "data": {
      "image/png": "[encoded data removed]",
      "text/plain": [
       "<Figure size 1080x504 with 1 Axes>"
      ]
     },
     "metadata": {
      "needs_background": "light"
     },
     "output_type": "display_data"
    }
   ],
   "source": [
    "# effect the total sulfur dioxide in the quality\n",
    "plt.figure(figsize=(15,7))\n",
    "sns.lineplot(data=df, x=\"quality\",y=\"total sulfur dioxide\",color=\"b\")"
   ]
  },
  {
   "cell_type": "code",
   "execution_count": 14,
   "id": "48b5d7ea",
   "metadata": {
    "execution": {
     "iopub.execute_input": "2024-05-05T09:25:11.554184Z",
     "iopub.status.busy": "2024-05-05T09:25:11.553489Z",
     "iopub.status.idle": "2024-05-05T09:25:11.968864Z",
     "shell.execute_reply": "2024-05-05T09:25:11.969397Z",
     "shell.execute_reply.started": "2024-05-05T09:19:38.292772Z"
    },
    "papermill": {
     "duration": 0.471304,
     "end_time": "2024-05-05T09:25:11.969579",
     "exception": false,
     "start_time": "2024-05-05T09:25:11.498275",
     "status": "completed"
    },
    "tags": []
   },
   "outputs": [
    {
     "data": {
      "text/plain": [
       "<AxesSubplot:xlabel='quality', ylabel='free sulfur dioxide'>"
      ]
     },
     "execution_count": 14,
     "metadata": {},
     "output_type": "execute_result"
    },
    {
     "data": {
      "image/png": "[encoded data removed]",
      "text/plain": [
       "<Figure size 1080x504 with 1 Axes>"
      ]
     },
     "metadata": {
      "needs_background": "light"
     },
     "output_type": "display_data"
    }
   ],
   "source": [
    "# effect the free sulfur dioxide in the quality\n",
    "\n",
    "plt.figure(figsize=(15,7))\n",
    "sns.lineplot(data=df, x=\"quality\",y=\"free sulfur dioxide\",color=\"g\")"
   ]
  },
  {
   "cell_type": "code",
   "execution_count": 15,
   "id": "bda34124",
   "metadata": {
    "execution": {
     "iopub.execute_input": "2024-05-05T09:25:12.071681Z",
     "iopub.status.busy": "2024-05-05T09:25:12.071040Z",
     "iopub.status.idle": "2024-05-05T09:25:13.028066Z",
     "shell.execute_reply": "2024-05-05T09:25:13.027518Z",
     "shell.execute_reply.started": "2024-05-05T09:19:38.706582Z"
    },
    "papermill": {
     "duration": 1.009457,
     "end_time": "2024-05-05T09:25:13.028217",
     "exception": false,
     "start_time": "2024-05-05T09:25:12.018760",
     "status": "completed"
    },
    "tags": []
   },
   "outputs": [
    {
     "data": {
      "text/html": [
       "        <script type=\"text/javascript\">\n",
       "        window.PlotlyConfig = {MathJaxConfig: 'local'};\n",
       "        if (window.MathJax) {MathJax.Hub.Config({SVG: {font: \"STIX-Web\"}});}\n",
       "        if (typeof require !== 'undefined') {\n",
       "        require.undef(\"plotly\");\n",
       "        requirejs.config({\n",
       "            paths: {\n",
       "                'plotly': ['https://cdn.plot.ly/plotly-2.8.3.min']\n",
       "            }\n",
       "        });\n",
       "        require(['plotly'], function(Plotly) {\n",
       "            window._Plotly = Plotly;\n",
       "        });\n",
       "        }\n",
       "        </script>\n",
       "        "
      ]
     },
     "metadata": {},
     "output_type": "display_data"
    },
    {
     "data": {
      "text/html": [
       "<div>                            <div id=\"274e382d-736a-4060-b26b-a11e3ea67707\" class=\"plotly-graph-div\" style=\"height:525px; width:100%;\"></div>            <script type=\"text/javascript\">                require([\"plotly\"], function(Plotly) {                    window.PLOTLYENV=window.PLOTLYENV || {};                                    if (document.getElementById(\"274e382d-736a-4060-b26b-a11e3ea67707\")) {                    Plotly.newPlot(                        \"274e382d-736a-4060-b26b-a11e3ea67707\",                        [{\"hovertemplate\":\"quality=5<br>free sulfur dioxide=%{x}<br>total sulfur dioxide=%{y}<extra></extra>\",\"legendgroup\":\"\",\"marker\":{\"color\":\"#636efa\",\"symbol\":\"circle\"},\"mode\":\"markers\",\"name\":\"\",\"orientation\":\"v\",\"showlegend\":false,\"x\":[11.0,25.0,15.0,11.0,13.0,15.0,15.0,16.0,9.0,23.0,10.0,9.0,11.0,4.0,14.0,17.0,15.0,13.0,12.0,9.0,22.0,4.0,30.0,4.0,17.0,19.0,20.0,13.0,4.0,4.0,6.0,18.0,9.0,12.0,3.0,21.0,19.0,9.0,34.0,8.0,42.0,9.0,8.0,5.0,12.0,5.0,12.0,18.0,15.0,12.0,11.0,12.0,10.0,3.0,21.0,3.0,3.0,30.0,17.0,16.0,13.0,16.0,3.0,32.0,21.0,25.0,25.0,28.0,29.0,28.0,12.0,7.0,36.0,35.0,14.0,18.0,19.0,7.0,7.0,10.0,10.0,23.0,16.0,11.0,26.0,14.0,15.0,21.0,7.0,7.0,15.0,18.0,28.0,26.0,13.0,11.0,10.0,16.0,5.0,5.0,16.0,5.0,8.0,17.0,5.0,12.0,8.0,18.0,10.0,23.0,5.0,32.0,32.0,33.0,5.0,26.0,8.0,5.0,12.0,12.0,7.0,30.0,26.0,25.0,5.0,16.0,29.0,8.0,23.0,29.0,14.0,6.0,6.0,11.0,23.0,6.0,68.0,9.0,68.0,15.0,15.0,24.0,31.0,34.0,34.0,15.0,9.0,21.0,6.0,6.0,7.0,31.0,6.0,21.0,5.0,29.0,6.0,36.0,15.0,5.0,6.0,6.0,7.0,6.0,43.0,34.0,38.0,23.0,6.0,12.0,12.0,6.0,5.0,20.0,5.0,38.0,32.0,10.0,10.0,5.0,41.0,5.0,10.0,18.0,17.0,5.0,5.0,18.0,21.0,21.0,9.0,30.0,6.0,25.0,5.0,28.0,6.0,16.0,14.0,9.0,21.0,5.0,5.0,20.0,5.0,46.0,24.0,30.0,31.0,16.0,16.0,16.0,8.0,22.0,7.0,20.0,8.0,15.0,25.0,5.0,5.0,12.0,45.0,20.0,32.0,5.0,35.0,5.0,4.0,5.0,12.0,16.0,21.0,24.0,18.0,11.0,10.0,16.0,21.0,16.0,21.0,12.0,10.0,17.0,10.0,35.0,36.0,5.0,4.0,4.0,12.0,4.0,10.0,16.0,9.0,11.0,19.0,28.0,21.0,17.0,24.0,17.0,10.0,10.0,33.0,9.0,5.0,12.0,7.0,23.0,23.0,7.0,7.0,21.0,9.0,20.0,11.0,21.0,25.0,7.0,7.0,24.0,8.0,4.0,4.0,9.0,9.0,15.0,6.0,15.0,21.0,9.0,14.0,14.0,9.0,9.0,15.0,7.0,17.0,16.0,36.0,9.0,23.0,16.0,16.0,10.0,12.0,7.0,10.0,14.0,14.0,13.0,8.0,7.0,9.0,7.0,6.0,23.0,35.0,31.0,13.0,35.0,19.0,19.0,31.0,31.0,27.0,11.0,10.0,4.0,28.0,5.0,27.0,16.0,19.0,28.0,28.0,30.0,3.0,40.0,5.0,13.0,4.0,7.0,28.0,29.0,35.0,9.0,9.0,10.0,17.0,5.0,16.0,11.0,11.0,6.0,33.0,24.0,18.0,27.0,8.0,19.0,48.0,19.0,36.0,10.0,15.0,15.0,27.0,6.0,6.0,20.0,43.0,19.0,34.0,25.0,34.0,18.0,20.0,20.0,20.0,6.0,51.0,21.0,24.0,22.0,27.0,14.0,9.0,13.0,31.0,12.0,4.0,15.0,15.0,15.0,8.0,5.0,7.0,14.0,5.0,4.0,52.0,13.0,10.0,12.0,12.0,7.0,25.0,25.0,20.0,34.0,8.0,7.0,5.0,5.0,19.0,4.0,17.0,33.0,12.0,3.0,8.0,3.0,3.0,32.0,3.0,24.0,6.0,27.0,38.0,18.0,27.0,15.0,3.0,8.0,22.0,27.0,8.0,34.0,8.0,8.0,14.0,48.0,48.0,10.0,10.0,6.0,8.0,9.0,9.0,5.0,6.0,23.0,21.0,7.0,19.0,7.0,14.0,23.0,29.0,18.0,13.0,32.0,15.0,17.0,19.0,18.0,18.0,12.0,66.0,31.0,31.0,31.0,12.0,12.0,12.0,25.0,35.0,13.0,32.0,32.0,32.0],\"xaxis\":\"x\",\"y\":[34.0,67.0,54.0,34.0,40.0,59.0,65.0,59.0,29.0,71.0,37.0,67.0,23.0,11.0,35.0,82.0,113.0,50.0,87.0,23.0,114.0,23.0,119.0,10.0,54.0,52.0,112.0,54.0,11.0,11.0,15.0,94.0,42.0,80.0,15.0,73.0,40.0,31.0,125.0,24.0,140.0,31.0,23.0,10.0,65.0,36.0,65.0,69.0,64.0,47.0,108.0,47.0,89.0,13.0,102.0,12.0,12.0,134.0,99.0,63.0,45.0,63.0,20.0,141.0,94.0,99.0,99.0,128.0,129.0,128.0,22.0,20.0,121.0,121.0,96.0,101.0,49.0,35.0,20.0,42.0,42.0,110.0,42.0,65.0,85.0,67.0,143.0,127.0,28.0,28.0,55.0,95.0,65.0,121.0,49.0,41.0,44.0,72.0,10.0,62.0,51.0,21.0,86.0,119.0,13.0,56.0,45.0,45.0,35.0,49.0,27.0,71.0,71.0,98.0,27.0,70.0,29.0,31.0,28.0,90.0,54.0,135.0,72.0,87.0,13.0,44.0,58.0,19.0,77.0,55.0,81.0,37.0,15.0,24.0,54.0,26.0,124.0,42.0,124.0,27.0,77.0,122.0,134.0,124.0,52.0,60.0,30.0,66.0,18.0,18.0,50.0,72.0,16.0,67.0,22.0,65.0,19.0,48.0,47.0,28.0,16.0,23.0,18.0,17.0,113.0,151.0,142.0,116.0,33.0,42.0,42.0,33.0,17.0,47.0,20.0,106.0,96.0,23.0,23.0,19.0,110.0,19.0,28.0,111.0,110.0,14.0,14.0,102.0,75.0,75.0,43.0,109.0,14.0,57.0,16.0,71.0,16.0,112.0,104.0,32.0,58.0,15.0,15.0,84.0,19.0,102.0,33.0,147.0,145.0,40.0,40.0,40.0,32.0,71.0,29.0,53.0,32.0,42.0,48.0,13.0,13.0,31.0,87.0,49.0,58.0,15.0,152.0,15.0,9.0,17.0,93.0,62.0,122.0,125.0,72.0,54.0,19.0,37.0,84.0,112.0,77.0,49.0,22.0,45.0,22.0,106.0,127.0,13.0,11.0,11.0,37.0,14.0,19.0,72.0,39.0,22.0,38.0,139.0,101.0,40.0,66.0,40.0,31.0,31.0,88.0,104.0,35.0,74.0,32.0,143.0,144.0,16.0,34.0,92.0,37.0,85.0,61.0,119.0,130.0,13.0,60.0,64.0,17.0,12.0,14.0,59.0,22.0,36.0,16.0,37.0,31.0,92.0,31.0,31.0,22.0,22.0,85.0,25.0,84.0,86.0,46.0,30.0,99.0,86.0,86.0,39.0,78.0,62.0,23.0,28.0,28.0,38.0,25.0,11.0,23.0,18.0,16.0,113.0,72.0,119.0,28.0,70.0,27.0,27.0,68.0,68.0,45.0,32.0,23.0,9.0,52.0,14.0,51.0,45.0,25.0,90.0,52.0,92.0,8.0,64.0,18.0,49.0,13.0,15.0,89.0,94.0,70.0,38.0,38.0,21.0,78.0,11.0,61.0,119.0,119.0,12.0,76.0,52.0,77.0,46.0,21.0,66.0,90.0,66.0,60.0,86.0,34.0,48.0,60.0,14.0,13.0,35.0,60.0,56.0,66.0,44.0,44.0,36.0,47.0,110.0,110.0,12.0,77.5,68.0,88.0,91.0,63.0,41.0,18.0,38.0,67.0,48.0,11.0,26.0,26.0,26.0,20.0,13.0,12.0,57.0,32.0,28.0,98.0,54.0,45.0,66.0,66.0,31.0,105.0,105.0,84.0,85.0,23.0,49.0,33.0,12.0,59.0,11.0,104.0,141.0,89.0,15.0,18.0,15.0,19.0,133.0,19.0,58.0,23.0,55.0,67.0,47.0,90.0,39.0,8.0,22.0,39.0,85.0,20.0,53.0,24.0,16.0,45.0,82.0,82.0,22.0,22.0,12.0,25.0,23.0,17.0,13.0,18.0,147.0,64.0,20.0,27.0,20.0,27.0,58.0,61.0,34.0,28.0,84.0,26.0,26.0,50.0,27.0,28.0,20.0,115.0,131.0,131.0,131.0,20.0,20.0,20.0,42.0,104.0,27.0,98.0,44.0,44.0],\"yaxis\":\"y\",\"type\":\"scatter\"}],                        {\"template\":{\"data\":{\"bar\":[{\"error_x\":{\"color\":\"#2a3f5f\"},\"error_y\":{\"color\":\"#2a3f5f\"},\"marker\":{\"line\":{\"color\":\"#E5ECF6\",\"width\":0.5},\"pattern\":{\"fillmode\":\"overlay\",\"size\":10,\"solidity\":0.2}},\"type\":\"bar\"}],\"barpolar\":[{\"marker\":{\"line\":{\"color\":\"#E5ECF6\",\"width\":0.5},\"pattern\":{\"fillmode\":\"overlay\",\"size\":10,\"solidity\":0.2}},\"type\":\"barpolar\"}],\"carpet\":[{\"aaxis\":{\"endlinecolor\":\"#2a3f5f\",\"gridcolor\":\"white\",\"linecolor\":\"white\",\"minorgridcolor\":\"white\",\"startlinecolor\":\"#2a3f5f\"},\"baxis\":{\"endlinecolor\":\"#2a3f5f\",\"gridcolor\":\"white\",\"linecolor\":\"white\",\"minorgridcolor\":\"white\",\"startlinecolor\":\"#2a3f5f\"},\"type\":\"carpet\"}],\"choropleth\":[{\"colorbar\":{\"outlinewidth\":0,\"ticks\":\"\"},\"type\":\"choropleth\"}],\"contour\":[{\"colorbar\":{\"outlinewidth\":0,\"ticks\":\"\"},\"colorscale\":[[0.0,\"#0d0887\"],[0.1111111111111111,\"#46039f\"],[0.2222222222222222,\"#7201a8\"],[0.3333333333333333,\"#9c179e\"],[0.4444444444444444,\"#bd3786\"],[0.5555555555555556,\"#d8576b\"],[0.6666666666666666,\"#ed7953\"],[0.7777777777777778,\"#fb9f3a\"],[0.8888888888888888,\"#fdca26\"],[1.0,\"#f0f921\"]],\"type\":\"contour\"}],\"contourcarpet\":[{\"colorbar\":{\"outlinewidth\":0,\"ticks\":\"\"},\"type\":\"contourcarpet\"}],\"heatmap\":[{\"colorbar\":{\"outlinewidth\":0,\"ticks\":\"\"},\"colorscale\":[[0.0,\"#0d0887\"],[0.1111111111111111,\"#46039f\"],[0.2222222222222222,\"#7201a8\"],[0.3333333333333333,\"#9c179e\"],[0.4444444444444444,\"#bd3786\"],[0.5555555555555556,\"#d8576b\"],[0.6666666666666666,\"#ed7953\"],[0.7777777777777778,\"#fb9f3a\"],[0.8888888888888888,\"#fdca26\"],[1.0,\"#f0f921\"]],\"type\":\"heatmap\"}],\"heatmapgl\":[{\"colorbar\":{\"outlinewidth\":0,\"ticks\":\"\"},\"colorscale\":[[0.0,\"#0d0887\"],[0.1111111111111111,\"#46039f\"],[0.2222222222222222,\"#7201a8\"],[0.3333333333333333,\"#9c179e\"],[0.4444444444444444,\"#bd3786\"],[0.5555555555555556,\"#d8576b\"],[0.6666666666666666,\"#ed7953\"],[0.7777777777777778,\"#fb9f3a\"],[0.8888888888888888,\"#fdca26\"],[1.0,\"#f0f921\"]],\"type\":\"heatmapgl\"}],\"histogram\":[{\"marker\":{\"pattern\":{\"fillmode\":\"overlay\",\"size\":10,\"solidity\":0.2}},\"type\":\"histogram\"}],\"histogram2d\":[{\"colorbar\":{\"outlinewidth\":0,\"ticks\":\"\"},\"colorscale\":[[0.0,\"#0d0887\"],[0.1111111111111111,\"#46039f\"],[0.2222222222222222,\"#7201a8\"],[0.3333333333333333,\"#9c179e\"],[0.4444444444444444,\"#bd3786\"],[0.5555555555555556,\"#d8576b\"],[0.6666666666666666,\"#ed7953\"],[0.7777777777777778,\"#fb9f3a\"],[0.8888888888888888,\"#fdca26\"],[1.0,\"#f0f921\"]],\"type\":\"histogram2d\"}],\"histogram2dcontour\":[{\"colorbar\":{\"outlinewidth\":0,\"ticks\":\"\"},\"colorscale\":[[0.0,\"#0d0887\"],[0.1111111111111111,\"#46039f\"],[0.2222222222222222,\"#7201a8\"],[0.3333333333333333,\"#9c179e\"],[0.4444444444444444,\"#bd3786\"],[0.5555555555555556,\"#d8576b\"],[0.6666666666666666,\"#ed7953\"],[0.7777777777777778,\"#fb9f3a\"],[0.8888888888888888,\"#fdca26\"],[1.0,\"#f0f921\"]],\"type\":\"histogram2dcontour\"}],\"mesh3d\":[{\"colorbar\":{\"outlinewidth\":0,\"ticks\":\"\"},\"type\":\"mesh3d\"}],\"parcoords\":[{\"line\":{\"colorbar\":{\"outlinewidth\":0,\"ticks\":\"\"}},\"type\":\"parcoords\"}],\"pie\":[{\"automargin\":true,\"type\":\"pie\"}],\"scatter\":[{\"marker\":{\"colorbar\":{\"outlinewidth\":0,\"ticks\":\"\"}},\"type\":\"scatter\"}],\"scatter3d\":[{\"line\":{\"colorbar\":{\"outlinewidth\":0,\"ticks\":\"\"}},\"marker\":{\"colorbar\":{\"outlinewidth\":0,\"ticks\":\"\"}},\"type\":\"scatter3d\"}],\"scattercarpet\":[{\"marker\":{\"colorbar\":{\"outlinewidth\":0,\"ticks\":\"\"}},\"type\":\"scattercarpet\"}],\"scattergeo\":[{\"marker\":{\"colorbar\":{\"outlinewidth\":0,\"ticks\":\"\"}},\"type\":\"scattergeo\"}],\"scattergl\":[{\"marker\":{\"colorbar\":{\"outlinewidth\":0,\"ticks\":\"\"}},\"type\":\"scattergl\"}],\"scattermapbox\":[{\"marker\":{\"colorbar\":{\"outlinewidth\":0,\"ticks\":\"\"}},\"type\":\"scattermapbox\"}],\"scatterpolar\":[{\"marker\":{\"colorbar\":{\"outlinewidth\":0,\"ticks\":\"\"}},\"type\":\"scatterpolar\"}],\"scatterpolargl\":[{\"marker\":{\"colorbar\":{\"outlinewidth\":0,\"ticks\":\"\"}},\"type\":\"scatterpolargl\"}],\"scatterternary\":[{\"marker\":{\"colorbar\":{\"outlinewidth\":0,\"ticks\":\"\"}},\"type\":\"scatterternary\"}],\"surface\":[{\"colorbar\":{\"outlinewidth\":0,\"ticks\":\"\"},\"colorscale\":[[0.0,\"#0d0887\"],[0.1111111111111111,\"#46039f\"],[0.2222222222222222,\"#7201a8\"],[0.3333333333333333,\"#9c179e\"],[0.4444444444444444,\"#bd3786\"],[0.5555555555555556,\"#d8576b\"],[0.6666666666666666,\"#ed7953\"],[0.7777777777777778,\"#fb9f3a\"],[0.8888888888888888,\"#fdca26\"],[1.0,\"#f0f921\"]],\"type\":\"surface\"}],\"table\":[{\"cells\":{\"fill\":{\"color\":\"#EBF0F8\"},\"line\":{\"color\":\"white\"}},\"header\":{\"fill\":{\"color\":\"#C8D4E3\"},\"line\":{\"color\":\"white\"}},\"type\":\"table\"}]},\"layout\":{\"annotationdefaults\":{\"arrowcolor\":\"#2a3f5f\",\"arrowhead\":0,\"arrowwidth\":1},\"autotypenumbers\":\"strict\",\"coloraxis\":{\"colorbar\":{\"outlinewidth\":0,\"ticks\":\"\"}},\"colorscale\":{\"diverging\":[[0,\"#8e0152\"],[0.1,\"#c51b7d\"],[0.2,\"#de77ae\"],[0.3,\"#f1b6da\"],[0.4,\"#fde0ef\"],[0.5,\"#f7f7f7\"],[0.6,\"#e6f5d0\"],[0.7,\"#b8e186\"],[0.8,\"#7fbc41\"],[0.9,\"#4d9221\"],[1,\"#276419\"]],\"sequential\":[[0.0,\"#0d0887\"],[0.1111111111111111,\"#46039f\"],[0.2222222222222222,\"#7201a8\"],[0.3333333333333333,\"#9c179e\"],[0.4444444444444444,\"#bd3786\"],[0.5555555555555556,\"#d8576b\"],[0.6666666666666666,\"#ed7953\"],[0.7777777777777778,\"#fb9f3a\"],[0.8888888888888888,\"#fdca26\"],[1.0,\"#f0f921\"]],\"sequentialminus\":[[0.0,\"#0d0887\"],[0.1111111111111111,\"#46039f\"],[0.2222222222222222,\"#7201a8\"],[0.3333333333333333,\"#9c179e\"],[0.4444444444444444,\"#bd3786\"],[0.5555555555555556,\"#d8576b\"],[0.6666666666666666,\"#ed7953\"],[0.7777777777777778,\"#fb9f3a\"],[0.8888888888888888,\"#fdca26\"],[1.0,\"#f0f921\"]]},\"colorway\":[\"#636efa\",\"#EF553B\",\"#00cc96\",\"#ab63fa\",\"#FFA15A\",\"#19d3f3\",\"#FF6692\",\"#B6E880\",\"#FF97FF\",\"#FECB52\"],\"font\":{\"color\":\"#2a3f5f\"},\"geo\":{\"bgcolor\":\"white\",\"lakecolor\":\"white\",\"landcolor\":\"#E5ECF6\",\"showlakes\":true,\"showland\":true,\"subunitcolor\":\"white\"},\"hoverlabel\":{\"align\":\"left\"},\"hovermode\":\"closest\",\"mapbox\":{\"style\":\"light\"},\"paper_bgcolor\":\"white\",\"plot_bgcolor\":\"#E5ECF6\",\"polar\":{\"angularaxis\":{\"gridcolor\":\"white\",\"linecolor\":\"white\",\"ticks\":\"\"},\"bgcolor\":\"#E5ECF6\",\"radialaxis\":{\"gridcolor\":\"white\",\"linecolor\":\"white\",\"ticks\":\"\"}},\"scene\":{\"xaxis\":{\"backgroundcolor\":\"#E5ECF6\",\"gridcolor\":\"white\",\"gridwidth\":2,\"linecolor\":\"white\",\"showbackground\":true,\"ticks\":\"\",\"zerolinecolor\":\"white\"},\"yaxis\":{\"backgroundcolor\":\"#E5ECF6\",\"gridcolor\":\"white\",\"gridwidth\":2,\"linecolor\":\"white\",\"showbackground\":true,\"ticks\":\"\",\"zerolinecolor\":\"white\"},\"zaxis\":{\"backgroundcolor\":\"#E5ECF6\",\"gridcolor\":\"white\",\"gridwidth\":2,\"linecolor\":\"white\",\"showbackground\":true,\"ticks\":\"\",\"zerolinecolor\":\"white\"}},\"shapedefaults\":{\"line\":{\"color\":\"#2a3f5f\"}},\"ternary\":{\"aaxis\":{\"gridcolor\":\"white\",\"linecolor\":\"white\",\"ticks\":\"\"},\"baxis\":{\"gridcolor\":\"white\",\"linecolor\":\"white\",\"ticks\":\"\"},\"bgcolor\":\"#E5ECF6\",\"caxis\":{\"gridcolor\":\"white\",\"linecolor\":\"white\",\"ticks\":\"\"}},\"title\":{\"x\":0.05},\"xaxis\":{\"automargin\":true,\"gridcolor\":\"white\",\"linecolor\":\"white\",\"ticks\":\"\",\"title\":{\"standoff\":15},\"zerolinecolor\":\"white\",\"zerolinewidth\":2},\"yaxis\":{\"automargin\":true,\"gridcolor\":\"white\",\"linecolor\":\"white\",\"ticks\":\"\",\"title\":{\"standoff\":15},\"zerolinecolor\":\"white\",\"zerolinewidth\":2}}},\"xaxis\":{\"anchor\":\"y\",\"domain\":[0.0,1.0],\"title\":{\"text\":\"free sulfur dioxide\"}},\"yaxis\":{\"anchor\":\"x\",\"domain\":[0.0,1.0],\"title\":{\"text\":\"total sulfur dioxide\"}},\"legend\":{\"tracegroupgap\":0},\"margin\":{\"t\":60},\"updatemenus\":[{\"buttons\":[{\"args\":[null,{\"frame\":{\"duration\":500,\"redraw\":false},\"mode\":\"immediate\",\"fromcurrent\":true,\"transition\":{\"duration\":500,\"easing\":\"linear\"}}],\"label\":\"&#9654;\",\"method\":\"animate\"},{\"args\":[[null],{\"frame\":{\"duration\":0,\"redraw\":false},\"mode\":\"immediate\",\"fromcurrent\":true,\"transition\":{\"duration\":0,\"easing\":\"linear\"}}],\"label\":\"&#9724;\",\"method\":\"animate\"}],\"direction\":\"left\",\"pad\":{\"r\":10,\"t\":70},\"showactive\":false,\"type\":\"buttons\",\"x\":0.1,\"xanchor\":\"right\",\"y\":0,\"yanchor\":\"top\"}],\"sliders\":[{\"active\":0,\"currentvalue\":{\"prefix\":\"quality=\"},\"len\":0.9,\"pad\":{\"b\":10,\"t\":60},\"steps\":[{\"args\":[[\"5\"],{\"frame\":{\"duration\":0,\"redraw\":false},\"mode\":\"immediate\",\"fromcurrent\":true,\"transition\":{\"duration\":0,\"easing\":\"linear\"}}],\"label\":\"5\",\"method\":\"animate\"},{\"args\":[[\"6\"],{\"frame\":{\"duration\":0,\"redraw\":false},\"mode\":\"immediate\",\"fromcurrent\":true,\"transition\":{\"duration\":0,\"easing\":\"linear\"}}],\"label\":\"6\",\"method\":\"animate\"},{\"args\":[[\"7\"],{\"frame\":{\"duration\":0,\"redraw\":false},\"mode\":\"immediate\",\"fromcurrent\":true,\"transition\":{\"duration\":0,\"easing\":\"linear\"}}],\"label\":\"7\",\"method\":\"animate\"},{\"args\":[[\"4\"],{\"frame\":{\"duration\":0,\"redraw\":false},\"mode\":\"immediate\",\"fromcurrent\":true,\"transition\":{\"duration\":0,\"easing\":\"linear\"}}],\"label\":\"4\",\"method\":\"animate\"},{\"args\":[[\"8\"],{\"frame\":{\"duration\":0,\"redraw\":false},\"mode\":\"immediate\",\"fromcurrent\":true,\"transition\":{\"duration\":0,\"easing\":\"linear\"}}],\"label\":\"8\",\"method\":\"animate\"},{\"args\":[[\"3\"],{\"frame\":{\"duration\":0,\"redraw\":false},\"mode\":\"immediate\",\"fromcurrent\":true,\"transition\":{\"duration\":0,\"easing\":\"linear\"}}],\"label\":\"3\",\"method\":\"animate\"}],\"x\":0.1,\"xanchor\":\"left\",\"y\":0,\"yanchor\":\"top\"}]},                        {\"responsive\": true}                    ).then(function(){\n",
       "                            Plotly.addFrames('274e382d-736a-4060-b26b-a11e3ea67707', [{\"data\":[{\"hovertemplate\":\"quality=5<br>free sulfur dioxide=%{x}<br>total sulfur dioxide=%{y}<extra></extra>\",\"legendgroup\":\"\",\"marker\":{\"color\":\"#636efa\",\"symbol\":\"circle\"},\"mode\":\"markers\",\"name\":\"\",\"orientation\":\"v\",\"showlegend\":false,\"x\":[11.0,25.0,15.0,11.0,13.0,15.0,15.0,16.0,9.0,23.0,10.0,9.0,11.0,4.0,14.0,17.0,15.0,13.0,12.0,9.0,22.0,4.0,30.0,4.0,17.0,19.0,20.0,13.0,4.0,4.0,6.0,18.0,9.0,12.0,3.0,21.0,19.0,9.0,34.0,8.0,42.0,9.0,8.0,5.0,12.0,5.0,12.0,18.0,15.0,12.0,11.0,12.0,10.0,3.0,21.0,3.0,3.0,30.0,17.0,16.0,13.0,16.0,3.0,32.0,21.0,25.0,25.0,28.0,29.0,28.0,12.0,7.0,36.0,35.0,14.0,18.0,19.0,7.0,7.0,10.0,10.0,23.0,16.0,11.0,26.0,14.0,15.0,21.0,7.0,7.0,15.0,18.0,28.0,26.0,13.0,11.0,10.0,16.0,5.0,5.0,16.0,5.0,8.0,17.0,5.0,12.0,8.0,18.0,10.0,23.0,5.0,32.0,32.0,33.0,5.0,26.0,8.0,5.0,12.0,12.0,7.0,30.0,26.0,25.0,5.0,16.0,29.0,8.0,23.0,29.0,14.0,6.0,6.0,11.0,23.0,6.0,68.0,9.0,68.0,15.0,15.0,24.0,31.0,34.0,34.0,15.0,9.0,21.0,6.0,6.0,7.0,31.0,6.0,21.0,5.0,29.0,6.0,36.0,15.0,5.0,6.0,6.0,7.0,6.0,43.0,34.0,38.0,23.0,6.0,12.0,12.0,6.0,5.0,20.0,5.0,38.0,32.0,10.0,10.0,5.0,41.0,5.0,10.0,18.0,17.0,5.0,5.0,18.0,21.0,21.0,9.0,30.0,6.0,25.0,5.0,28.0,6.0,16.0,14.0,9.0,21.0,5.0,5.0,20.0,5.0,46.0,24.0,30.0,31.0,16.0,16.0,16.0,8.0,22.0,7.0,20.0,8.0,15.0,25.0,5.0,5.0,12.0,45.0,20.0,32.0,5.0,35.0,5.0,4.0,5.0,12.0,16.0,21.0,24.0,18.0,11.0,10.0,16.0,21.0,16.0,21.0,12.0,10.0,17.0,10.0,35.0,36.0,5.0,4.0,4.0,12.0,4.0,10.0,16.0,9.0,11.0,19.0,28.0,21.0,17.0,24.0,17.0,10.0,10.0,33.0,9.0,5.0,12.0,7.0,23.0,23.0,7.0,7.0,21.0,9.0,20.0,11.0,21.0,25.0,7.0,7.0,24.0,8.0,4.0,4.0,9.0,9.0,15.0,6.0,15.0,21.0,9.0,14.0,14.0,9.0,9.0,15.0,7.0,17.0,16.0,36.0,9.0,23.0,16.0,16.0,10.0,12.0,7.0,10.0,14.0,14.0,13.0,8.0,7.0,9.0,7.0,6.0,23.0,35.0,31.0,13.0,35.0,19.0,19.0,31.0,31.0,27.0,11.0,10.0,4.0,28.0,5.0,27.0,16.0,19.0,28.0,28.0,30.0,3.0,40.0,5.0,13.0,4.0,7.0,28.0,29.0,35.0,9.0,9.0,10.0,17.0,5.0,16.0,11.0,11.0,6.0,33.0,24.0,18.0,27.0,8.0,19.0,48.0,19.0,36.0,10.0,15.0,15.0,27.0,6.0,6.0,20.0,43.0,19.0,34.0,25.0,34.0,18.0,20.0,20.0,20.0,6.0,51.0,21.0,24.0,22.0,27.0,14.0,9.0,13.0,31.0,12.0,4.0,15.0,15.0,15.0,8.0,5.0,7.0,14.0,5.0,4.0,52.0,13.0,10.0,12.0,12.0,7.0,25.0,25.0,20.0,34.0,8.0,7.0,5.0,5.0,19.0,4.0,17.0,33.0,12.0,3.0,8.0,3.0,3.0,32.0,3.0,24.0,6.0,27.0,38.0,18.0,27.0,15.0,3.0,8.0,22.0,27.0,8.0,34.0,8.0,8.0,14.0,48.0,48.0,10.0,10.0,6.0,8.0,9.0,9.0,5.0,6.0,23.0,21.0,7.0,19.0,7.0,14.0,23.0,29.0,18.0,13.0,32.0,15.0,17.0,19.0,18.0,18.0,12.0,66.0,31.0,31.0,31.0,12.0,12.0,12.0,25.0,35.0,13.0,32.0,32.0,32.0],\"xaxis\":\"x\",\"y\":[34.0,67.0,54.0,34.0,40.0,59.0,65.0,59.0,29.0,71.0,37.0,67.0,23.0,11.0,35.0,82.0,113.0,50.0,87.0,23.0,114.0,23.0,119.0,10.0,54.0,52.0,112.0,54.0,11.0,11.0,15.0,94.0,42.0,80.0,15.0,73.0,40.0,31.0,125.0,24.0,140.0,31.0,23.0,10.0,65.0,36.0,65.0,69.0,64.0,47.0,108.0,47.0,89.0,13.0,102.0,12.0,12.0,134.0,99.0,63.0,45.0,63.0,20.0,141.0,94.0,99.0,99.0,128.0,129.0,128.0,22.0,20.0,121.0,121.0,96.0,101.0,49.0,35.0,20.0,42.0,42.0,110.0,42.0,65.0,85.0,67.0,143.0,127.0,28.0,28.0,55.0,95.0,65.0,121.0,49.0,41.0,44.0,72.0,10.0,62.0,51.0,21.0,86.0,119.0,13.0,56.0,45.0,45.0,35.0,49.0,27.0,71.0,71.0,98.0,27.0,70.0,29.0,31.0,28.0,90.0,54.0,135.0,72.0,87.0,13.0,44.0,58.0,19.0,77.0,55.0,81.0,37.0,15.0,24.0,54.0,26.0,124.0,42.0,124.0,27.0,77.0,122.0,134.0,124.0,52.0,60.0,30.0,66.0,18.0,18.0,50.0,72.0,16.0,67.0,22.0,65.0,19.0,48.0,47.0,28.0,16.0,23.0,18.0,17.0,113.0,151.0,142.0,116.0,33.0,42.0,42.0,33.0,17.0,47.0,20.0,106.0,96.0,23.0,23.0,19.0,110.0,19.0,28.0,111.0,110.0,14.0,14.0,102.0,75.0,75.0,43.0,109.0,14.0,57.0,16.0,71.0,16.0,112.0,104.0,32.0,58.0,15.0,15.0,84.0,19.0,102.0,33.0,147.0,145.0,40.0,40.0,40.0,32.0,71.0,29.0,53.0,32.0,42.0,48.0,13.0,13.0,31.0,87.0,49.0,58.0,15.0,152.0,15.0,9.0,17.0,93.0,62.0,122.0,125.0,72.0,54.0,19.0,37.0,84.0,112.0,77.0,49.0,22.0,45.0,22.0,106.0,127.0,13.0,11.0,11.0,37.0,14.0,19.0,72.0,39.0,22.0,38.0,139.0,101.0,40.0,66.0,40.0,31.0,31.0,88.0,104.0,35.0,74.0,32.0,143.0,144.0,16.0,34.0,92.0,37.0,85.0,61.0,119.0,130.0,13.0,60.0,64.0,17.0,12.0,14.0,59.0,22.0,36.0,16.0,37.0,31.0,92.0,31.0,31.0,22.0,22.0,85.0,25.0,84.0,86.0,46.0,30.0,99.0,86.0,86.0,39.0,78.0,62.0,23.0,28.0,28.0,38.0,25.0,11.0,23.0,18.0,16.0,113.0,72.0,119.0,28.0,70.0,27.0,27.0,68.0,68.0,45.0,32.0,23.0,9.0,52.0,14.0,51.0,45.0,25.0,90.0,52.0,92.0,8.0,64.0,18.0,49.0,13.0,15.0,89.0,94.0,70.0,38.0,38.0,21.0,78.0,11.0,61.0,119.0,119.0,12.0,76.0,52.0,77.0,46.0,21.0,66.0,90.0,66.0,60.0,86.0,34.0,48.0,60.0,14.0,13.0,35.0,60.0,56.0,66.0,44.0,44.0,36.0,47.0,110.0,110.0,12.0,77.5,68.0,88.0,91.0,63.0,41.0,18.0,38.0,67.0,48.0,11.0,26.0,26.0,26.0,20.0,13.0,12.0,57.0,32.0,28.0,98.0,54.0,45.0,66.0,66.0,31.0,105.0,105.0,84.0,85.0,23.0,49.0,33.0,12.0,59.0,11.0,104.0,141.0,89.0,15.0,18.0,15.0,19.0,133.0,19.0,58.0,23.0,55.0,67.0,47.0,90.0,39.0,8.0,22.0,39.0,85.0,20.0,53.0,24.0,16.0,45.0,82.0,82.0,22.0,22.0,12.0,25.0,23.0,17.0,13.0,18.0,147.0,64.0,20.0,27.0,20.0,27.0,58.0,61.0,34.0,28.0,84.0,26.0,26.0,50.0,27.0,28.0,20.0,115.0,131.0,131.0,131.0,20.0,20.0,20.0,42.0,104.0,27.0,98.0,44.0,44.0],\"yaxis\":\"y\",\"type\":\"scatter\"}],\"name\":\"5\"},{\"data\":[{\"hovertemplate\":\"quality=6<br>free sulfur dioxide=%{x}<br>total sulfur dioxide=%{y}<extra></extra>\",\"legendgroup\":\"\",\"marker\":{\"color\":\"#636efa\",\"symbol\":\"circle\"},\"mode\":\"markers\",\"name\":\"\",\"orientation\":\"v\",\"showlegend\":false,\"x\":[17.0,17.0,21.0,8.0,5.0,3.0,8.0,8.0,6.0,33.0,9.0,8.0,14.0,18.0,20.0,20.0,13.0,11.0,13.0,22.0,13.0,11.0,14.0,13.0,27.0,27.0,12.0,5.0,18.0,17.0,11.0,6.0,24.0,8.0,8.0,21.0,12.0,14.0,5.0,10.0,10.0,24.0,8.0,29.0,27.0,12.0,18.0,7.0,14.0,6.0,28.0,6.0,6.0,16.0,16.0,7.0,4.0,27.0,27.0,7.0,4.0,6.0,25.0,29.0,18.0,5.0,17.0,20.0,7.0,6.0,5.0,15.0,19.0,30.0,13.0,13.0,6.0,6.0,6.0,6.0,6.0,6.0,15.0,11.0,40.5,17.0,10.0,21.0,11.0,26.0,19.0,6.0,11.0,23.0,17.0,13.0,19.0,10.0,9.0,26.0,6.0,7.0,19.0,6.0,13.0,22.0,38.0,6.0,7.0,17.0,17.0,18.0,14.0,5.0,21.0,7.0,6.0,25.0,25.0,6.0,6.0,5.0,10.0,23.0,28.0,14.0,23.0,14.0,6.0,26.0,15.0,5.0,15.0,33.0,1.0,15.0,13.0,1.0,5.0,5.0,16.0,6.0,10.0,6.0,27.0,9.0,14.0,14.0,10.0,6.0,25.0,6.0,5.0,5.0,19.0,10.0,18.0,23.0,6.0,5.0,14.0,26.0,11.0,15.0,18.0,14.0,7.0,7.0,21.0,25.0,24.0,9.0,5.0,5.0,9.0,6.0,6.0,6.0,7.0,16.0,18.0,8.0,5.0,26.0,8.0,9.0,11.0,18.0,27.0,19.0,12.0,12.0,12.0,12.0,12.0,14.0,22.0,15.0,8.0,11.0,12.0,24.0,24.0,1.0,6.0,12.0,19.0,19.0,18.0,17.0,7.0,5.0,14.0,4.0,4.0,7.0,19.0,16.0,34.0,12.0,41.0,41.0,41.0,31.0,30.0,14.0,30.0,8.0,32.0,10.0,17.0,27.0,27.0,6.0,34.0,3.0,3.0,4.0,3.0,26.0,32.0,38.0,38.0,52.0,29.0,19.0,5.0,18.0,18.0,29.0,6.0,8.0,51.0,8.0,7.0,14.0,19.0,4.0,7.0,12.0,22.0,3.0,36.0,3.0,3.0,3.0,17.0,14.0,15.0,21.0,13.0,12.0,32.0,33.0,3.0,6.0,5.0,3.0,6.0,6.0,5.0,6.0,16.0,3.0,31.0,32.0,18.0,8.0,10.0,9.0,9.0,23.0,14.0,14.0,16.0,27.0,6.0,6.0,29.0,15.0,15.0,15.0,14.0,27.0,26.0,5.0,22.0,6.0,16.0,33.0,24.0,6.0,16.0,31.0,6.0,9.0,6.0,16.0,17.0,8.0,5.0,5.0,5.0,26.0,26.0,48.0,11.0,6.0,15.0,21.0,4.0,19.0,23.0,4.0,8.0,8.0,6.0,10.0,25.0,17.0,17.0,8.0,15.0,11.0,7.0,11.0,24.0,12.0,15.0,26.0,16.0,16.0,13.0,21.0,26.0,24.0,17.0,13.0,3.0,13.0,28.0,28.0,9.0,17.0,25.0,14.0,15.0,11.0,15.0,20.0,4.0,12.0,17.0,16.0,18.0,16.0,18.0,18.0,18.0,18.0,17.0,17.0,6.0,19.0,13.0,13.0,13.0,13.0,10.0,8.0,27.0,6.0,6.0,10.0,9.0,16.0,5.0,10.0,11.0,11.0,15.0,3.0,10.0,6.0,12.0,8.0,40.0,40.0,5.0,8.0,8.0,39.0,13.0,55.0,31.0,19.0,7.0,9.0,34.0,14.0,23.0,8.0,15.0,7.0,7.0,6.0,5.0,6.0,5.0,17.0,26.0,16.0,16.0,29.0,18.0,21.0,42.0,9.0,18.0,15.0,11.0,16.0,32.0,15.0,26.0,24.0,15.0,19.0,15.0,15.0,12.0,16.0,13.0,13.0,9.0,34.0,18.0,26.0,16.0,29.0,28.0,39.0],\"xaxis\":\"x\",\"y\":[60.0,56.0,40.0,16.0,18.0,15.0,14.0,15.0,14.0,73.0,46.0,19.0,30.0,61.0,136.0,136.0,35.0,50.0,35.0,46.0,62.0,40.0,56.0,29.0,63.0,63.0,30.0,11.0,86.0,31.0,44.0,18.0,42.0,38.0,62.0,49.0,27.0,37.0,19.0,62.0,41.0,58.0,28.0,63.0,81.0,49.0,58.0,37.0,38.0,24.0,109.0,23.0,23.0,37.0,34.0,27.0,23.0,61.0,61.0,27.0,23.0,19.0,49.0,53.0,48.0,16.0,53.0,44.0,15.0,14.0,12.0,105.0,98.0,74.0,50.0,50.0,21.0,16.0,14.0,14.0,32.0,15.0,46.0,26.0,165.0,32.0,41.0,50.0,25.0,46.0,47.0,24.0,27.0,53.0,43.0,49.0,64.0,41.0,28.0,86.0,20.0,20.0,48.0,32.0,35.0,54.0,62.0,22.0,27.0,35.0,35.0,35.0,23.0,15.0,51.0,18.0,21.0,52.0,68.0,20.0,31.0,14.0,26.0,81.0,91.0,38.0,81.0,38.0,13.0,62.0,49.0,14.0,33.0,85.0,28.0,33.0,32.0,28.0,13.0,17.0,53.0,15.0,28.0,21.0,69.0,25.0,45.0,44.0,17.0,47.0,60.0,47.0,15.0,20.0,42.0,37.0,40.0,149.0,24.0,30.0,63.0,52.0,65.0,39.0,29.0,28.0,31.0,31.0,43.0,57.0,148.0,30.0,20.0,20.0,27.0,16.0,15.0,15.0,17.0,29.0,44.0,25.0,19.0,88.0,25.0,23.0,35.0,49.0,58.0,58.0,16.0,28.0,57.0,31.0,28.0,32.0,47.0,33.0,19.0,44.0,48.0,94.0,94.0,44.0,18.0,45.0,58.0,58.0,82.0,87.0,26.0,14.0,46.0,18.0,15.0,24.0,41.0,24.0,68.0,39.0,55.0,55.0,55.0,43.0,35.0,26.0,69.0,28.0,64.0,18.0,88.0,43.0,43.0,9.0,61.0,11.0,9.0,8.0,6.0,45.0,79.0,46.0,46.0,73.0,66.0,72.0,10.0,38.0,38.0,46.0,10.0,17.0,70.0,17.0,11.0,21.0,41.0,10.0,12.0,19.0,31.0,7.0,109.0,8.0,8.0,9.0,43.0,36.0,48.0,39.0,26.0,53.0,38.0,45.0,14.0,17.0,77.0,8.0,15.0,17.0,10.0,20.0,37.0,8.0,70.0,59.0,30.0,19.0,16.0,17.0,17.0,36.0,25.0,25.0,25.0,66.0,14.0,35.0,80.0,21.0,21.0,21.0,24.0,33.0,52.0,10.0,50.0,13.0,86.0,79.0,71.0,12.0,20.0,51.0,21.0,21.0,11.0,70.0,38.0,44.0,14.0,12.0,16.0,65.0,65.0,59.0,47.0,20.0,64.0,56.0,9.0,77.0,94.0,9.0,15.0,15.0,9.0,79.0,50.0,44.0,44.0,20.0,58.0,18.0,17.0,18.0,37.0,69.0,33.0,51.0,36.0,36.0,19.0,51.0,60.0,64.0,36.0,81.0,10.0,81.0,54.0,54.0,22.0,69.0,60.0,28.0,29.0,18.0,28.0,57.0,15.0,27.0,91.0,46.0,64.0,46.0,34.0,34.0,34.0,34.0,91.0,91.0,25.0,40.0,31.0,31.0,31.0,31.0,28.0,46.0,67.0,28.0,28.0,31.0,105.0,74.0,14.0,28.0,35.0,35.0,33.0,12.0,24.0,24.0,46.0,22.0,54.0,54.0,16.0,19.0,22.0,55.0,74.0,95.0,92.0,98.0,23.0,17.0,64.0,39.0,44.0,18.0,28.0,16.0,16.0,14.0,12.0,14.0,12.0,25.0,48.0,65.0,65.0,44.0,38.0,59.0,52.0,18.0,22.0,35.0,32.0,28.0,54.0,23.0,42.0,52.0,34.0,35.0,25.0,50.0,20.0,29.0,27.0,20.0,26.0,60.0,28.0,35.0,26.0,40.0,38.0,51.0],\"yaxis\":\"y\",\"type\":\"scatter\"}],\"name\":\"6\"},{\"data\":[{\"hovertemplate\":\"quality=7<br>free sulfur dioxide=%{x}<br>total sulfur dioxide=%{y}<extra></extra>\",\"legendgroup\":\"\",\"marker\":{\"color\":\"#636efa\",\"symbol\":\"circle\"},\"mode\":\"markers\",\"name\":\"\",\"orientation\":\"v\",\"showlegend\":false,\"x\":[15.0,9.0,35.0,13.0,3.0,9.0,9.0,9.0,19.0,10.0,10.0,14.0,10.0,5.0,10.0,20.0,20.0,21.0,6.0,17.0,7.0,12.0,12.0,10.0,7.0,7.0,6.0,6.0,7.0,12.0,6.0,32.0,6.0,32.0,6.0,6.0,5.0,5.0,12.0,13.0,38.0,38.0,6.0,10.0,6.0,23.0,6.0,6.0,5.0,10.0,10.0,23.0,21.0,14.0,4.0,16.0,4.0,36.0,36.0,9.0,16.0,17.0,7.0,17.0,17.0,16.0,16.0,11.0,53.0,10.0,9.0,13.0,11.0,11.0,6.0,10.0,10.0,6.0,6.0,5.0,25.0,7.0,9.0,6.0,4.0,13.0,12.0,12.0,7.0,12.0,12.0,12.0,5.0,26.0,25.0,9.0,3.0,30.0,3.0,13.0,3.0,19.0,37.5,37.5,3.0,22.0,22.0,11.0,10.0,23.0,13.0,18.0,10.0,6.0,6.0,45.0,16.0,12.0,29.0,11.0,5.0,24.0,24.0,24.0,14.0,18.0,3.0,35.0,21.0,11.0,15.0,8.0,37.0,7.0,31.0,31.0,16.0,16.0,15.0,13.0,12.0,15.0,24.0],\"xaxis\":\"x\",\"y\":[21.0,18.0,103.0,30.0,16.0,24.0,28.0,28.0,106.0,24.0,24.0,33.0,47.0,10.0,47.0,49.0,49.0,59.0,14.0,38.0,21.0,29.0,29.0,23.0,42.0,42.0,18.0,18.0,38.0,30.0,19.0,48.0,24.0,48.0,24.0,43.0,27.0,22.0,25.0,27.0,76.0,76.0,22.0,26.0,21.0,43.0,15.0,15.0,35.0,21.0,28.0,42.0,42.0,86.0,10.0,42.0,8.0,100.0,100.0,28.0,47.0,32.0,16.0,43.0,43.0,33.0,33.0,18.0,77.0,19.0,17.0,52.0,24.0,24.0,12.0,21.0,21.0,12.0,10.0,9.0,36.0,13.0,29.0,12.0,8.0,27.0,25.0,24.0,12.0,28.0,18.0,18.0,17.0,35.0,42.0,20.0,10.0,52.0,10.0,26.0,10.0,37.0,278.0,289.0,9.0,41.0,41.0,31.0,24.0,55.0,27.0,38.0,18.0,15.0,14.0,88.0,101.0,19.0,48.0,41.0,10.0,44.0,44.0,44.0,24.0,88.0,9.0,53.0,37.0,25.0,28.0,17.0,53.0,15.0,54.0,54.0,89.0,89.0,28.0,29.0,19.0,24.0,34.0],\"yaxis\":\"y\",\"type\":\"scatter\"}],\"name\":\"7\"},{\"data\":[{\"hovertemplate\":\"quality=4<br>free sulfur dioxide=%{x}<br>total sulfur dioxide=%{y}<extra></extra>\",\"legendgroup\":\"\",\"marker\":{\"color\":\"#636efa\",\"symbol\":\"circle\"},\"mode\":\"markers\",\"name\":\"\",\"orientation\":\"v\",\"showlegend\":false,\"x\":[17.0,8.0,11.0,27.0,41.0,32.0,9.0,17.0,4.0,12.0,12.0,26.0,26.0,6.0,11.0,5.0,22.0,4.0,4.0,5.0,36.0,28.0,11.0,23.0,5.0,12.0,11.0,17.0,3.0,14.0,6.0,19.0,6.0],\"xaxis\":\"x\",\"y\":[46.0,65.0,43.0,119.0,85.0,69.0,20.0,42.0,8.0,31.0,67.0,61.0,49.0,14.0,86.0,14.0,84.0,14.0,7.0,9.0,51.0,48.0,75.0,47.0,19.0,24.0,20.0,24.0,10.0,31.0,13.0,32.0,13.0],\"yaxis\":\"y\",\"type\":\"scatter\"}],\"name\":\"4\"},{\"data\":[{\"hovertemplate\":\"quality=8<br>free sulfur dioxide=%{x}<br>total sulfur dioxide=%{y}<extra></extra>\",\"legendgroup\":\"\",\"marker\":{\"color\":\"#636efa\",\"symbol\":\"circle\"},\"mode\":\"markers\",\"name\":\"\",\"orientation\":\"v\",\"showlegend\":false,\"x\":[15.0,5.0,12.0,6.0,6.0,6.0,5.0,5.0,19.0,7.0,42.0,8.0,6.0,3.0,15.0,17.0],\"xaxis\":\"x\",\"y\":[37.0,13.0,88.0,29.0,19.0,17.0,16.0,16.0,50.0,16.0,74.0,17.0,12.0,13.0,29.0,24.0],\"yaxis\":\"y\",\"type\":\"scatter\"}],\"name\":\"8\"},{\"data\":[{\"hovertemplate\":\"quality=3<br>free sulfur dioxide=%{x}<br>total sulfur dioxide=%{y}<extra></extra>\",\"legendgroup\":\"\",\"marker\":{\"color\":\"#636efa\",\"symbol\":\"circle\"},\"mode\":\"markers\",\"name\":\"\",\"orientation\":\"v\",\"showlegend\":false,\"x\":[10.0,5.0,5.0,20.0,3.0,6.0],\"xaxis\":\"x\",\"y\":[47.0,16.0,9.0,49.0,14.0,12.0],\"yaxis\":\"y\",\"type\":\"scatter\"}],\"name\":\"3\"}]);\n",
       "                        }).then(function(){\n",
       "                            \n",
       "var gd = document.getElementById('274e382d-736a-4060-b26b-a11e3ea67707');\n",
       "var x = new MutationObserver(function (mutations, observer) {{\n",
       "        var display = window.getComputedStyle(gd).display;\n",
       "        if (!display || display === 'none') {{\n",
       "            console.log([gd, 'removed!']);\n",
       "            Plotly.purge(gd);\n",
       "            observer.disconnect();\n",
       "        }}\n",
       "}});\n",
       "\n",
       "// Listen for the removal of the full notebook cells\n",
       "var notebookContainer = gd.closest('#notebook-container');\n",
       "if (notebookContainer) {{\n",
       "    x.observe(notebookContainer, {childList: true});\n",
       "}}\n",
       "\n",
       "// Listen for the clearing of the current output cell\n",
       "var outputEl = gd.closest('.output');\n",
       "if (outputEl) {{\n",
       "    x.observe(outputEl, {childList: true});\n",
       "}}\n",
       "\n",
       "                        })                };                });            </script>        </div>"
      ]
     },
     "metadata": {},
     "output_type": "display_data"
    }
   ],
   "source": [
    "# using graph interactive the show the effect free and total - sulfur dioxide in the quality\n",
    "\n",
    "px.scatter(df, x=\"free sulfur dioxide\", y=\"total sulfur dioxide\",animation_frame=\"quality\")"
   ]
  },
  {
   "cell_type": "markdown",
   "id": "a5fbf575",
   "metadata": {
    "papermill": {
     "duration": 0.05091,
     "end_time": "2024-05-05T09:25:13.130933",
     "exception": false,
     "start_time": "2024-05-05T09:25:13.080023",
     "status": "completed"
    },
    "tags": []
   },
   "source": [
    "# Insights:\n",
    "\n",
    "## We have 5 types of quality in Data Set - 3 to 8\n",
    "- The Best quality 8\n",
    "- The less quality 3\n",
    "### The elements highest effect on the quality of wine:\n",
    "- 1 - Alcohol \n",
    "- 2 - Free sulfur dioxide\n",
    "- 3 - Total sulfur dioxide\n",
    "\n",
    "### The elements lessest or a simple effect on the quality of wine:\n",
    "- 1 - Fixed acidity\n",
    "- 2 - Volatile acidity\n",
    "- 3 - Citric acid\n",
    "- 4 - Residual sugar\n",
    "- 5 - Chlorides\n",
    "- 6 - Density\n",
    "- 7 - PH\n",
    "- 8 - Sulphates\n",
    "\n",
    "\n",
    "\n",
    "\n",
    "\n",
    "\n",
    "# 2 -Building a Machine Learning Model"
   ]
  },
  {
   "cell_type": "code",
   "execution_count": 16,
   "id": "4e75f2f7",
   "metadata": {
    "execution": {
     "iopub.execute_input": "2024-05-05T09:25:13.239225Z",
     "iopub.status.busy": "2024-05-05T09:25:13.238520Z",
     "iopub.status.idle": "2024-05-05T09:25:13.847695Z",
     "shell.execute_reply": "2024-05-05T09:25:13.847133Z",
     "shell.execute_reply.started": "2024-05-05T09:19:39.576257Z"
    },
    "papermill": {
     "duration": 0.666101,
     "end_time": "2024-05-05T09:25:13.847858",
     "exception": false,
     "start_time": "2024-05-05T09:25:13.181757",
     "status": "completed"
    },
    "tags": []
   },
   "outputs": [],
   "source": [
    "#Importing all the necessary librarires for building model\n",
    "\n",
    "\n",
    "from sklearn.linear_model import LinearRegression ,LogisticRegression\n",
    "from sklearn.model_selection import train_test_split\n",
    "from sklearn.metrics import mean_absolute_error ,mean_squared_error, median_absolute_error,confusion_matrix,accuracy_score,r2_score\n",
    "\n",
    "from sklearn.tree import DecisionTreeClassifier\n",
    "from sklearn.neighbors import KNeighborsClassifier\n",
    "\n",
    "from sklearn.svm import SVC ,SVR\n",
    "\n",
    "from sklearn.ensemble import RandomForestClassifier, GradientBoostingRegressor\n",
    "from sklearn.linear_model import RidgeCV\n",
    "from catboost import CatBoostRegressor,CatBoostClassifier\n",
    "import xgboost as xgb\n",
    "from sklearn.ensemble import ExtraTreesRegressor\n"
   ]
  },
  {
   "cell_type": "code",
   "execution_count": 17,
   "id": "fcc51219",
   "metadata": {
    "execution": {
     "iopub.execute_input": "2024-05-05T09:25:13.959650Z",
     "iopub.status.busy": "2024-05-05T09:25:13.958998Z",
     "iopub.status.idle": "2024-05-05T09:25:13.960598Z",
     "shell.execute_reply": "2024-05-05T09:25:13.961120Z",
     "shell.execute_reply.started": "2024-05-05T09:19:40.126400Z"
    },
    "papermill": {
     "duration": 0.060717,
     "end_time": "2024-05-05T09:25:13.961285",
     "exception": false,
     "start_time": "2024-05-05T09:25:13.900568",
     "status": "completed"
    },
    "tags": []
   },
   "outputs": [],
   "source": [
    "#Defined X and y , and split the data train\n",
    "\n",
    "X = df.drop(columns=\"quality\")           \n",
    "y = df[\"quality\"]    # y = quality"
   ]
  },
  {
   "cell_type": "code",
   "execution_count": 18,
   "id": "fd882411",
   "metadata": {
    "execution": {
     "iopub.execute_input": "2024-05-05T09:25:14.068400Z",
     "iopub.status.busy": "2024-05-05T09:25:14.067720Z",
     "iopub.status.idle": "2024-05-05T09:25:14.076551Z",
     "shell.execute_reply": "2024-05-05T09:25:14.077050Z",
     "shell.execute_reply.started": "2024-05-05T09:19:40.133322Z"
    },
    "papermill": {
     "duration": 0.063383,
     "end_time": "2024-05-05T09:25:14.077232",
     "exception": false,
     "start_time": "2024-05-05T09:25:14.013849",
     "status": "completed"
    },
    "tags": []
   },
   "outputs": [
    {
     "name": "stdout",
     "output_type": "stream",
     "text": [
      "X Train :  (857, 11)\n",
      "X Test  :  (286, 11)\n",
      "Y Train :  (857,)\n",
      "Y Test  :  (286,)\n"
     ]
    }
   ],
   "source": [
    "# split the data train and test\n",
    "X_train, X_test, y_train, y_test = train_test_split(X, y, test_size=0.25, random_state=42)\n",
    "\n",
    "print(\"X Train : \", X_train.shape)\n",
    "print(\"X Test  : \", X_test.shape)\n",
    "print(\"Y Train : \", y_train.shape)\n",
    "print(\"Y Test  : \", y_test.shape)"
   ]
  },
  {
   "cell_type": "markdown",
   "id": "eb92d880",
   "metadata": {
    "papermill": {
     "duration": 0.051436,
     "end_time": "2024-05-05T09:25:14.181480",
     "exception": false,
     "start_time": "2024-05-05T09:25:14.130044",
     "status": "completed"
    },
    "tags": []
   },
   "source": [
    "### 1 -linear_model"
   ]
  },
  {
   "cell_type": "code",
   "execution_count": 19,
   "id": "434e02b4",
   "metadata": {
    "execution": {
     "iopub.execute_input": "2024-05-05T09:25:14.291370Z",
     "iopub.status.busy": "2024-05-05T09:25:14.290651Z",
     "iopub.status.idle": "2024-05-05T09:25:14.347652Z",
     "shell.execute_reply": "2024-05-05T09:25:14.348645Z",
     "shell.execute_reply.started": "2024-05-05T09:19:40.148620Z"
    },
    "papermill": {
     "duration": 0.1129,
     "end_time": "2024-05-05T09:25:14.348906",
     "exception": false,
     "start_time": "2024-05-05T09:25:14.236006",
     "status": "completed"
    },
    "tags": []
   },
   "outputs": [
    {
     "name": "stdout",
     "output_type": "stream",
     "text": [
      "Score the X-train with Y-train is :  0.3766893166865495\n",
      "Score the X-test  with Y-test  is :  0.3487901433645896\n",
      " Model Evaluation Linear R : mean absolute error is  0.4742577332205526\n",
      " Model Evaluation Linear R : mean squared  error is  0.37215517566167367\n",
      " Model Evaluation Linear R : median absolute error is  0.3771988566534432\n"
     ]
    }
   ],
   "source": [
    "# using the model LinearRegression\n",
    "LR_model=LinearRegression()\n",
    "\n",
    "# fit model\n",
    "LR_model.fit(X_train,y_train)\n",
    "\n",
    "# Score X and Y - test and train\n",
    "\n",
    "print(\"Score the X-train with Y-train is : \", LR_model.score(X_train,y_train))\n",
    "print(\"Score the X-test  with Y-test  is : \", LR_model.score(X_test,y_test))\n",
    "\n",
    "# Expected value Y using X test\n",
    "y_pred_LR=LR_model.predict(X_test)\n",
    "\n",
    "# Model Evaluation\n",
    "print( \" Model Evaluation Linear R : mean absolute error is \", mean_absolute_error(y_test,y_pred_LR))\n",
    "print(\" Model Evaluation Linear R : mean squared  error is \" , mean_squared_error(y_test,y_pred_LR))\n",
    "print(\" Model Evaluation Linear R : median absolute error is \" ,median_absolute_error(y_test,y_pred_LR)) "
   ]
  },
  {
   "cell_type": "code",
   "execution_count": 20,
   "id": "2167191e",
   "metadata": {
    "execution": {
     "iopub.execute_input": "2024-05-05T09:25:14.517691Z",
     "iopub.status.busy": "2024-05-05T09:25:14.516948Z",
     "iopub.status.idle": "2024-05-05T09:25:14.562619Z",
     "shell.execute_reply": "2024-05-05T09:25:14.563162Z",
     "shell.execute_reply.started": "2024-05-05T09:19:40.186920Z"
    },
    "papermill": {
     "duration": 0.106588,
     "end_time": "2024-05-05T09:25:14.563346",
     "exception": false,
     "start_time": "2024-05-05T09:25:14.456758",
     "status": "completed"
    },
    "tags": []
   },
   "outputs": [
    {
     "name": "stdout",
     "output_type": "stream",
     "text": [
      "Score the X-train with Y-train is :  0.5869311551925321\n",
      "Score the X-test  with Y-test  is :  0.6258741258741258\n",
      " Model Evaluation Logistic R : mean absolute error is  0.4020979020979021\n",
      " Model Evaluation Logistic R : mean squared  error is  0.458041958041958\n",
      " Model Evaluation Logistic R : median absolute error is  0.0\n",
      " Model Evaluation Logistic R : accuracy score  0.6258741258741258\n"
     ]
    }
   ],
   "source": [
    "# using the model Logistic Regression\n",
    "\n",
    "Lo_model=LogisticRegression(solver='liblinear')\n",
    "\n",
    "# fit model\n",
    "\n",
    "Lo_model.fit(X_train,y_train)\n",
    "\n",
    "\n",
    "# Score X and Y - test and train model Logistic Regression\n",
    "\n",
    "print(\"Score the X-train with Y-train is : \", Lo_model.score(X_train,y_train))\n",
    "print(\"Score the X-test  with Y-test  is : \", Lo_model.score(X_test,y_test))\n",
    "\n",
    "# Expected value Y using X test\n",
    "y_pred_Lo=Lo_model.predict(X_test)\n",
    "\n",
    "# Model Evaluation\n",
    "print( \" Model Evaluation Logistic R : mean absolute error is \", mean_absolute_error(y_test,y_pred_Lo))\n",
    "print(\" Model Evaluation Logistic R : mean squared  error is \" , mean_squared_error(y_test,y_pred_Lo))\n",
    "print(\" Model Evaluation Logistic R : median absolute error is \" ,median_absolute_error(y_test,y_pred_Lo)) \n",
    "\n",
    "print(\" Model Evaluation Logistic R : accuracy score \" , accuracy_score(y_test,y_pred_Lo))"
   ]
  },
  {
   "cell_type": "markdown",
   "id": "41d03ba2",
   "metadata": {
    "papermill": {
     "duration": 0.054596,
     "end_time": "2024-05-05T09:25:14.671310",
     "exception": false,
     "start_time": "2024-05-05T09:25:14.616714",
     "status": "completed"
    },
    "tags": []
   },
   "source": [
    "### Decision Tree Classifier"
   ]
  },
  {
   "cell_type": "code",
   "execution_count": 21,
   "id": "06c86a24",
   "metadata": {
    "execution": {
     "iopub.execute_input": "2024-05-05T09:25:14.784624Z",
     "iopub.status.busy": "2024-05-05T09:25:14.783613Z",
     "iopub.status.idle": "2024-05-05T09:25:14.804704Z",
     "shell.execute_reply": "2024-05-05T09:25:14.804137Z",
     "shell.execute_reply.started": "2024-05-05T09:19:40.273797Z"
    },
    "papermill": {
     "duration": 0.077646,
     "end_time": "2024-05-05T09:25:14.804848",
     "exception": false,
     "start_time": "2024-05-05T09:25:14.727202",
     "status": "completed"
    },
    "tags": []
   },
   "outputs": [
    {
     "name": "stdout",
     "output_type": "stream",
     "text": [
      "Score the X-train with Y-train is :  0.9253208868144691\n",
      "Score the X-test  with Y-test  is :  0.5594405594405595\n"
     ]
    }
   ],
   "source": [
    "# using the model Decision Tree Classifier\n",
    "Tree_model=DecisionTreeClassifier(max_depth=10)\n",
    "# fit model\n",
    "Tree_model.fit(X_train,y_train)\n",
    "\n",
    "# Score X and Y - test and train\n",
    "\n",
    "print(\"Score the X-train with Y-train is : \", Tree_model.score(X_train,y_train))\n",
    "print(\"Score the X-test  with Y-test  is : \", Tree_model.score(X_test,y_test))"
   ]
  },
  {
   "cell_type": "code",
   "execution_count": 22,
   "id": "f61d388f",
   "metadata": {
    "execution": {
     "iopub.execute_input": "2024-05-05T09:25:14.922429Z",
     "iopub.status.busy": "2024-05-05T09:25:14.921433Z",
     "iopub.status.idle": "2024-05-05T09:25:14.927244Z",
     "shell.execute_reply": "2024-05-05T09:25:14.927703Z",
     "shell.execute_reply.started": "2024-05-05T09:19:40.301680Z"
    },
    "papermill": {
     "duration": 0.065917,
     "end_time": "2024-05-05T09:25:14.927889",
     "exception": false,
     "start_time": "2024-05-05T09:25:14.861972",
     "status": "completed"
    },
    "tags": []
   },
   "outputs": [
    {
     "name": "stdout",
     "output_type": "stream",
     "text": [
      "The Important columns \n",
      " [0.06690888 0.11325703 0.06384417 0.06836425 0.06399737 0.07035485\n",
      " 0.113973   0.04904842 0.05469139 0.14363796 0.19192267]\n"
     ]
    }
   ],
   "source": [
    "# Select  Important columns\n",
    "\n",
    "print(\"The Important columns \\n\",Tree_model.feature_importances_)\n"
   ]
  },
  {
   "cell_type": "code",
   "execution_count": 23,
   "id": "49e0e924",
   "metadata": {
    "execution": {
     "iopub.execute_input": "2024-05-05T09:25:15.038483Z",
     "iopub.status.busy": "2024-05-05T09:25:15.037778Z",
     "iopub.status.idle": "2024-05-05T09:25:15.045301Z",
     "shell.execute_reply": "2024-05-05T09:25:15.045897Z",
     "shell.execute_reply.started": "2024-05-05T09:19:40.307689Z"
    },
    "papermill": {
     "duration": 0.064681,
     "end_time": "2024-05-05T09:25:15.046085",
     "exception": false,
     "start_time": "2024-05-05T09:25:14.981404",
     "status": "completed"
    },
    "tags": []
   },
   "outputs": [
    {
     "name": "stdout",
     "output_type": "stream",
     "text": [
      "The classes  [3 4 5 6 7 8]\n",
      " Model Evaluation Decision Tree : accuracy score  0.5594405594405595\n"
     ]
    }
   ],
   "source": [
    "print(\"The classes \",Tree_model.classes_)\n",
    "\n",
    "y_pred_T =Tree_model.predict(X_test)\n",
    "\n",
    "print(\" Model Evaluation Decision Tree : accuracy score \" , accuracy_score(y_test,y_pred_T))"
   ]
  },
  {
   "cell_type": "markdown",
   "id": "69a067eb",
   "metadata": {
    "papermill": {
     "duration": 0.054679,
     "end_time": "2024-05-05T09:25:15.154481",
     "exception": false,
     "start_time": "2024-05-05T09:25:15.099802",
     "status": "completed"
    },
    "tags": []
   },
   "source": [
    "- Decision trees performs poor on test set."
   ]
  },
  {
   "cell_type": "markdown",
   "id": "3e0e3c7b",
   "metadata": {
    "papermill": {
     "duration": 0.053681,
     "end_time": "2024-05-05T09:25:15.263099",
     "exception": false,
     "start_time": "2024-05-05T09:25:15.209418",
     "status": "completed"
    },
    "tags": []
   },
   "source": [
    "### Model SVM"
   ]
  },
  {
   "cell_type": "code",
   "execution_count": 24,
   "id": "d377702f",
   "metadata": {
    "execution": {
     "iopub.execute_input": "2024-05-05T09:25:15.395787Z",
     "iopub.status.busy": "2024-05-05T09:25:15.394972Z",
     "iopub.status.idle": "2024-05-05T09:25:15.529483Z",
     "shell.execute_reply": "2024-05-05T09:25:15.528951Z",
     "shell.execute_reply.started": "2024-05-05T09:19:40.319714Z"
    },
    "papermill": {
     "duration": 0.199859,
     "end_time": "2024-05-05T09:25:15.529619",
     "exception": false,
     "start_time": "2024-05-05T09:25:15.329760",
     "status": "completed"
    },
    "tags": []
   },
   "outputs": [
    {
     "name": "stdout",
     "output_type": "stream",
     "text": [
      "Score the X-train with Y-train is :  0.5950991831971996\n",
      "Score the X-test  with Y-test  is :  0.6433566433566433\n",
      " Model Evaluation Decision Tree : accuracy score  0.6433566433566433\n"
     ]
    }
   ],
   "source": [
    "# using the model SVC\n",
    "svc_model=SVC(C=50,kernel=\"rbf\")\n",
    "\n",
    "# fit model\n",
    "svc_model.fit(X_train,y_train)\n",
    "\n",
    "y_pred_svc =svc_model.predict(X_test)\n",
    "\n",
    "print(\"Score the X-train with Y-train is : \", svc_model.score(X_train,y_train))\n",
    "print(\"Score the X-test  with Y-test  is : \", svc_model.score(X_test,y_test))\n",
    "print(\" Model Evaluation Decision Tree : accuracy score \" , accuracy_score(y_test,y_pred_svc))"
   ]
  },
  {
   "cell_type": "code",
   "execution_count": 25,
   "id": "23bb4c93",
   "metadata": {
    "execution": {
     "iopub.execute_input": "2024-05-05T09:25:15.660885Z",
     "iopub.status.busy": "2024-05-05T09:25:15.660012Z",
     "iopub.status.idle": "2024-05-05T09:25:15.771997Z",
     "shell.execute_reply": "2024-05-05T09:25:15.772636Z",
     "shell.execute_reply.started": "2024-05-05T09:19:40.448774Z"
    },
    "papermill": {
     "duration": 0.188314,
     "end_time": "2024-05-05T09:25:15.772864",
     "exception": false,
     "start_time": "2024-05-05T09:25:15.584550",
     "status": "completed"
    },
    "tags": []
   },
   "outputs": [
    {
     "name": "stdout",
     "output_type": "stream",
     "text": [
      "Score the X-train with Y-train is :  0.14069185408666396\n",
      "Score the X-test  with Y-test  is :  0.23501709956140815\n",
      " Model Evaluation Decision Tree : accuracy score  0.6433566433566433\n"
     ]
    }
   ],
   "source": [
    "# using the model SVR\n",
    "\n",
    "svr_model=SVR(degree=1,coef0=1, tol=0.001, C=1.5,epsilon=0.001)\n",
    "\n",
    "# fit model\n",
    "svr_model.fit(X_train,y_train)\n",
    "\n",
    "y_pred_svr =svc_model.predict(X_test)\n",
    "\n",
    "print(\"Score the X-train with Y-train is : \", svr_model.score(X_train,y_train))\n",
    "print(\"Score the X-test  with Y-test  is : \", svr_model.score(X_test,y_test))\n",
    "print(\" Model Evaluation Decision Tree : accuracy score \" , accuracy_score(y_test,y_pred_svr))"
   ]
  },
  {
   "cell_type": "markdown",
   "id": "8007d855",
   "metadata": {
    "papermill": {
     "duration": 0.055462,
     "end_time": "2024-05-05T09:25:15.891151",
     "exception": false,
     "start_time": "2024-05-05T09:25:15.835689",
     "status": "completed"
    },
    "tags": []
   },
   "source": [
    "### Neighbors model"
   ]
  },
  {
   "cell_type": "code",
   "execution_count": 26,
   "id": "52d144db",
   "metadata": {
    "execution": {
     "iopub.execute_input": "2024-05-05T09:25:16.004604Z",
     "iopub.status.busy": "2024-05-05T09:25:16.003614Z",
     "iopub.status.idle": "2024-05-05T09:25:16.067706Z",
     "shell.execute_reply": "2024-05-05T09:25:16.068240Z",
     "shell.execute_reply.started": "2024-05-05T09:19:40.561139Z"
    },
    "papermill": {
     "duration": 0.121938,
     "end_time": "2024-05-05T09:25:16.068414",
     "exception": false,
     "start_time": "2024-05-05T09:25:15.946476",
     "status": "completed"
    },
    "tags": []
   },
   "outputs": [
    {
     "name": "stdout",
     "output_type": "stream",
     "text": [
      "Score the X-train with Y-train is :  0.6289381563593932\n",
      "Score the X-test  with Y-test  is :  0.5314685314685315\n",
      " Model Evaluation K Neighbors Classifier : accuracy score  0.5314685314685315\n"
     ]
    }
   ],
   "source": [
    "# using the model K Neighbors Classifier\n",
    "\n",
    "K_model = KNeighborsClassifier(n_neighbors = 5)\n",
    "K_model.fit(X_train, y_train)\n",
    "\n",
    "y_pred_k = K_model.predict(X_test)\n",
    "\n",
    "print(\"Score the X-train with Y-train is : \", K_model.score(X_train,y_train))\n",
    "print(\"Score the X-test  with Y-test  is : \", K_model.score(X_test,y_test))\n",
    "print(\" Model Evaluation K Neighbors Classifier : accuracy score \" , accuracy_score(y_test,y_pred_k))"
   ]
  },
  {
   "cell_type": "markdown",
   "id": "727c2bf2",
   "metadata": {
    "papermill": {
     "duration": 0.054844,
     "end_time": "2024-05-05T09:25:16.179605",
     "exception": false,
     "start_time": "2024-05-05T09:25:16.124761",
     "status": "completed"
    },
    "tags": []
   },
   "source": [
    "### CatBoost Regressor"
   ]
  },
  {
   "cell_type": "code",
   "execution_count": 27,
   "id": "9e55263c",
   "metadata": {
    "execution": {
     "iopub.execute_input": "2024-05-05T09:25:16.298617Z",
     "iopub.status.busy": "2024-05-05T09:25:16.297790Z",
     "iopub.status.idle": "2024-05-05T09:25:19.015797Z",
     "shell.execute_reply": "2024-05-05T09:25:19.015059Z",
     "shell.execute_reply.started": "2024-05-05T09:19:40.627809Z"
    },
    "papermill": {
     "duration": 2.781841,
     "end_time": "2024-05-05T09:25:19.015971",
     "exception": false,
     "start_time": "2024-05-05T09:25:16.234130",
     "status": "completed"
    },
    "tags": []
   },
   "outputs": [
    {
     "name": "stdout",
     "output_type": "stream",
     "text": [
      "Score the X-train with Y-train is :  1.0\n",
      "Score the X-test  with Y-test  is :  0.6573426573426573\n",
      "Model Evaluation CatBoost Classifier : accuracy score  0.6573426573426573\n"
     ]
    }
   ],
   "source": [
    "from sklearn.preprocessing import StandardScaler\n",
    "\n",
    "\n",
    "\n",
    "catboost_classifier = CatBoostClassifier(verbose=False,  depth=5,       learning_rate=0.1,  iterations=1000,     l2_leaf_reg=4,      random_seed=42     )\n",
    "\n",
    "catboost_classifier.fit(X_train, y_train)\n",
    "\n",
    "y_catboost = catboost_classifier.predict(X_test)\n",
    "\n",
    "accuracy_catboost = accuracy_score(y_test, y_catboost)\n",
    "\n",
    "print(\"Score the X-train with Y-train is : \", catboost_classifier.score(X_train,y_train))\n",
    "print(\"Score the X-test  with Y-test  is : \", catboost_classifier.score(X_test,y_test))\n",
    "print(\"Model Evaluation CatBoost Classifier : accuracy score \" , accuracy_score(y_test,y_catboost))"
   ]
  },
  {
   "cell_type": "markdown",
   "id": "29b4c8f6",
   "metadata": {
    "papermill": {
     "duration": 0.054891,
     "end_time": "2024-05-05T09:25:19.126740",
     "exception": false,
     "start_time": "2024-05-05T09:25:19.071849",
     "status": "completed"
    },
    "tags": []
   },
   "source": [
    "### Extra Trees Clssifier"
   ]
  },
  {
   "cell_type": "code",
   "execution_count": 28,
   "id": "7b68dd34",
   "metadata": {
    "execution": {
     "iopub.execute_input": "2024-05-05T09:25:19.245854Z",
     "iopub.status.busy": "2024-05-05T09:25:19.245163Z",
     "iopub.status.idle": "2024-05-05T09:25:19.795263Z",
     "shell.execute_reply": "2024-05-05T09:25:19.794659Z",
     "shell.execute_reply.started": "2024-05-05T09:19:43.425513Z"
    },
    "papermill": {
     "duration": 0.613438,
     "end_time": "2024-05-05T09:25:19.795423",
     "exception": false,
     "start_time": "2024-05-05T09:25:19.181985",
     "status": "completed"
    },
    "tags": []
   },
   "outputs": [
    {
     "name": "stdout",
     "output_type": "stream",
     "text": [
      "Score the X-train with Y-train is :  1.0\n",
      "Score the X-test  with Y-test  is :  0.6853146853146853\n",
      "Model Evaluation CatBoost Classifier : accuracy score  0.6853146853146853\n"
     ]
    }
   ],
   "source": [
    "from sklearn.ensemble import ExtraTreesClassifier\n",
    "from sklearn.metrics import accuracy_score\n",
    "\n",
    "\n",
    "extra_trees_classifier = ExtraTreesClassifier(n_estimators=200,random_state=42)\n",
    "extra_trees_classifier.fit(X_train, y_train)\n",
    "\n",
    "y_extra_trees = extra_trees_classifier.predict(X_test)\n",
    "\n",
    "accuracy_extra_trees = accuracy_score(y_test, y_extra_trees)\n",
    "\n",
    "print(\"Score the X-train with Y-train is : \", extra_trees_classifier.score(X_train,y_train))\n",
    "print(\"Score the X-test  with Y-test  is : \", extra_trees_classifier.score(X_test,y_test))\n",
    "print(\"Model Evaluation CatBoost Classifier : accuracy score \" , accuracy_extra_trees)"
   ]
  },
  {
   "cell_type": "markdown",
   "id": "764d4b72",
   "metadata": {
    "papermill": {
     "duration": 0.055931,
     "end_time": "2024-05-05T09:25:19.909717",
     "exception": false,
     "start_time": "2024-05-05T09:25:19.853786",
     "status": "completed"
    },
    "tags": []
   },
   "source": [
    "### Stacking different classifiers"
   ]
  },
  {
   "cell_type": "code",
   "execution_count": 29,
   "id": "e354dac8",
   "metadata": {
    "execution": {
     "iopub.execute_input": "2024-05-05T09:25:20.024554Z",
     "iopub.status.busy": "2024-05-05T09:25:20.023811Z",
     "iopub.status.idle": "2024-05-05T09:25:38.782458Z",
     "shell.execute_reply": "2024-05-05T09:25:38.783078Z",
     "shell.execute_reply.started": "2024-05-05T09:20:53.287374Z"
    },
    "papermill": {
     "duration": 18.817197,
     "end_time": "2024-05-05T09:25:38.783277",
     "exception": false,
     "start_time": "2024-05-05T09:25:19.966080",
     "status": "completed"
    },
    "tags": []
   },
   "outputs": [
    {
     "name": "stdout",
     "output_type": "stream",
     "text": [
      "Score the X-train with Y-train is :  0.9498249708284714\n",
      "Score the X-test  with Y-test  is :  0.6853146853146853\n",
      "Model Evaluation CatBoost Classifier : accuracy score  0.6853146853146853\n"
     ]
    }
   ],
   "source": [
    "from sklearn.ensemble import StackingClassifier\n",
    "\n",
    "base_classifiers = [\n",
    "    ('random_forest', RandomForestClassifier(n_estimators=200, random_state=42)),\n",
    "    ('catboost', CatBoostClassifier(verbose=False, depth=5, learning_rate=0.1,iterations=1000, l2_leaf_reg=4, random_seed=42))\n",
    "]\n",
    "\n",
    "meta_classifier = LogisticRegression()\n",
    "\n",
    "stacking_classifier = StackingClassifier(\n",
    "    estimators=base_classifiers,\n",
    "    final_estimator=meta_classifier,\n",
    "    cv=5  \n",
    ")\n",
    "\n",
    "stacking_classifier.fit(X_train, y_train)\n",
    "\n",
    "y_stacking = stacking_classifier.predict(X_test)\n",
    "\n",
    "accuracy_stacking = accuracy_score(y_test, y_stacking)\n",
    "\n",
    "print(\"Score the X-train with Y-train is : \", stacking_classifier.score(X_train,y_train))\n",
    "print(\"Score the X-test  with Y-test  is : \", stacking_classifier.score(X_test,y_test))\n",
    "print(\"Model Evaluation CatBoost Classifier : accuracy score \" , accuracy_stacking)"
   ]
  },
  {
   "cell_type": "markdown",
   "id": "ebe7d3cb",
   "metadata": {
    "papermill": {
     "duration": 0.055544,
     "end_time": "2024-05-05T09:25:38.897117",
     "exception": false,
     "start_time": "2024-05-05T09:25:38.841573",
     "status": "completed"
    },
    "tags": []
   },
   "source": [
    "# Model building results\n",
    "\n",
    "### These models were selected and evaluated:\n",
    "### linear_model\n",
    "- 1- LinearRegression\n",
    "- Score the X-train with Y-train is : 0.37%\n",
    "- Score the X-test with Y-test is : 0.34%\n",
    "- Mean absolute error is 0.47%\n",
    "- Mean squared error is 0.37%\n",
    "- Median absolute error is 0.37%\n",
    "\n",
    "- 2- LogisticRegression\n",
    "\n",
    "- Score the X-train with Y-train is : 0.58%\n",
    "- Score the X-test with Y-test is : 0.62%\n",
    "- Mean absolute error is 0.40%\n",
    "- Mean squared error is 0.45%\n",
    "- Median absolute error is 0.0\n",
    "- Accuracy score 0.625%\n",
    "\n",
    "### Decision Tree Classifier\n",
    "\n",
    "- Score the X-train with Y-train is : 0.92%\n",
    "- Score the X-test with Y-test is : 0.54%\n",
    "- Accuracy score 0.54%\n",
    "\n",
    "\n",
    "### Model SVM\n",
    "\n",
    "- 1- SVC\n",
    "- Score the X-train with Y-train is : 0.59%\n",
    "- Score the X-test with Y-test is : 0.64%\n",
    "- Accuracy score 0.64%\n",
    "\n",
    "- 2-SVR\n",
    "\n",
    "- Score the X-train with Y-train is : 0.14%\n",
    "- Score the X-test with Y-test is : 0.23%\n",
    "- Accuracy score 0.64%\n",
    "\n",
    "### Neighbors model\n",
    "\n",
    "- Score the X-train with Y-train is : 0.62%\n",
    "- Score the X-test with Y-test is : 0.53%\n",
    "- Accuracy score 0.53%\n",
    "\n",
    "### CatBoost model\n",
    "\n",
    "- Score the X-train with Y-train is : 1%\n",
    "- Score the X-test with Y-test is : 0.65%\n",
    "- Accuracy score 0.53%\n",
    "\n",
    "### ExtraTrees model\n",
    "\n",
    "- Score the X-train with Y-train is : 1%\n",
    "- Score the X-test with Y-test is : 0.58%\n",
    "- Accuracy score 0.53%\n",
    "\n",
    "### Stacking model\n",
    "\n",
    "- Score the X-train with Y-train is : 0.94%\n",
    "- Score the X-test with Y-test is : 0.68%\n",
    "- Accuracy score 0.53%\n"
   ]
  },
  {
   "cell_type": "code",
   "execution_count": null,
   "id": "87262b36",
   "metadata": {
    "papermill": {
     "duration": 0.05543,
     "end_time": "2024-05-05T09:25:39.010181",
     "exception": false,
     "start_time": "2024-05-05T09:25:38.954751",
     "status": "completed"
    },
    "tags": []
   },
   "outputs": [],
   "source": []
  }
 ],
 "metadata": {
  "kaggle": {
   "accelerator": "none",
   "dataSources": [
    {
     "datasetId": 1866301,
     "sourceId": 3047725,
     "sourceType": "datasetVersion"
    }
   ],
   "dockerImageVersionId": 30162,
   "isGpuEnabled": false,
   "isInternetEnabled": true,
   "language": "python",
   "sourceType": "notebook"
  },
  "kernelspec": {
   "display_name": "Python 3",
   "language": "python",
   "name": "python3"
  },
  "language_info": {
   "codemirror_mode": {
    "name": "ipython",
    "version": 3
   },
   "file_extension": ".py",
   "mimetype": "text/x-python",
   "name": "python",
   "nbconvert_exporter": "python",
   "pygments_lexer": "ipython3",
   "version": "3.7.12"
  },
  "papermill": {
   "default_parameters": {},
   "duration": 44.332135,
   "end_time": "2024-05-05T09:25:39.876535",
   "environment_variables": {},
   "exception": null,
   "input_path": "__notebook__.ipynb",
   "output_path": "__notebook__.ipynb",
   "parameters": {},
   "start_time": "2024-05-05T09:24:55.544400",
   "version": "2.3.3"
  }
 },
 "nbformat": 4,
 "nbformat_minor": 5
}
